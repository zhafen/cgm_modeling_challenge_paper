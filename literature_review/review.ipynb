{
 "cells": [
  {
   "cell_type": "code",
   "execution_count": null,
   "id": "3eef3471-0d5b-4829-bb49-93d9a1bf03cd",
   "metadata": {},
   "outputs": [],
   "source": [
    "import ast\n",
    "import copy\n",
    "import numpy as np\n",
    "import os\n",
    "import pandas as pd\n",
    "import scipy\n",
    "import scipy.sparse as ss"
   ]
  },
  {
   "cell_type": "code",
   "execution_count": null,
   "id": "1b45a75a-49af-4a69-8e52-f22df0af0d96",
   "metadata": {},
   "outputs": [],
   "source": [
    "import cc.atlas as atlas\n",
    "import cc.cartography as cartography\n",
    "import cc.publication as publication\n",
    "import cc.utils as utils\n",
    "import cc.tex as tex"
   ]
  },
  {
   "cell_type": "code",
   "execution_count": null,
   "id": "bb4c3430-894b-4d53-8273-af1be1c28030",
   "metadata": {},
   "outputs": [],
   "source": [
    "import matplotlib\n",
    "import matplotlib.pyplot as plt\n",
    "matplotlib.style.use( '~/repos/clean-bold/clean-bold.mplstyle' )\n",
    "import palettable"
   ]
  },
  {
   "cell_type": "code",
   "execution_count": null,
   "id": "9742dac7-df12-4f7f-9035-106fd5c8bd36",
   "metadata": {},
   "outputs": [],
   "source": [
    "import trove\n",
    "import verdict"
   ]
  },
  {
   "cell_type": "markdown",
   "id": "01455185-77b9-4443-9e4c-ec55289c1324",
   "metadata": {
    "tags": []
   },
   "source": [
    "# Literature Review\n",
    "\n",
    "This notebook contains a record of how I performed the literature review for this work."
   ]
  },
  {
   "cell_type": "markdown",
   "id": "2d02929c-d4b0-4c95-94b6-3f7613d4f77c",
   "metadata": {},
   "source": [
    "# Parameters"
   ]
  },
  {
   "cell_type": "code",
   "execution_count": null,
   "id": "cbaf46ef-ed61-445e-91ce-905784206dbb",
   "metadata": {},
   "outputs": [],
   "source": [
    "config_fp = '/Users/zhafen/paper_repos/cgm_modeling_challenge_paper/literature_review/literature_review.trove'\n",
    "cp = trove.config_parser.ConfigParser( config_fp )\n",
    "pm = trove.link_params_to_config(\n",
    "    config_fp,\n",
    "    variation = 'multicloud_modeling',\n",
    ")"
   ]
  },
  {
   "cell_type": "code",
   "execution_count": null,
   "id": "55a891a7-35cb-4237-989f-3c2dec90d3f2",
   "metadata": {},
   "outputs": [],
   "source": [
    "atlas_dir = pm['root_data_dir']"
   ]
  },
  {
   "cell_type": "code",
   "execution_count": null,
   "id": "576e7d94-11c0-47e5-b3e4-8d74849e447b",
   "metadata": {},
   "outputs": [],
   "source": [
    "topics = {}\n",
    "search_strs = {}\n",
    "for variation in cp.variations:\n",
    "    topics[variation] = ast.literal_eval( cp.get( variation, 'publications' ) )\n",
    "    try:\n",
    "        search_strs[variation] = ast.literal_eval( cp.get( variation, 'search_str' ) )\n",
    "    except:\n",
    "        search_strs[variation] = ''\n",
    "    if ( len( topics[variation] ) == 1 ) and ( search_strs[variation] == '' ):\n",
    "        raise ValueError( 'Topics that are just copies of papers will be tossed out. Use the paper itself instead or add a search string.' )"
   ]
  },
  {
   "cell_type": "markdown",
   "id": "f6489937-4f3a-4358-b99c-0255cff2effa",
   "metadata": {
    "tags": []
   },
   "source": [
    "# Load Data"
   ]
  },
  {
   "cell_type": "markdown",
   "id": "346234c8-e5bb-4023-a5cf-cfddec7a8b0e",
   "metadata": {},
   "source": [
    "## Notes"
   ]
  },
  {
   "cell_type": "code",
   "execution_count": null,
   "id": "16e275ac-00ca-4ade-9f4a-2423980be847",
   "metadata": {},
   "outputs": [],
   "source": [
    "notes_fp = os.path.join( pm['root_data_dir'], 'notes.json' )\n",
    "notes = verdict.Dict.from_json( notes_fp, create_nonexisting=True )"
   ]
  },
  {
   "cell_type": "code",
   "execution_count": null,
   "id": "5f84fdb0-1eb3-43d0-b67c-4e7f06a1b37d",
   "metadata": {},
   "outputs": [],
   "source": [
    "if 'addressed' not in notes:\n",
    "    notes['addressed'] = []"
   ]
  },
  {
   "cell_type": "markdown",
   "id": "98f0e0a0-7ed9-41ad-a8bb-af5651b41e81",
   "metadata": {
    "tags": []
   },
   "source": [
    "## Zotero Atlas"
   ]
  },
  {
   "cell_type": "code",
   "execution_count": null,
   "id": "94785674-430a-42e4-8411-690472baca03",
   "metadata": {},
   "outputs": [],
   "source": [
    "# Larger atlas\n",
    "a_zotero = atlas.Atlas( atlas_dir, load_bibtex=False, data_fp=pm['zotero_atlas_fp'] )"
   ]
  },
  {
   "cell_type": "code",
   "execution_count": null,
   "id": "8e4e9beb-6be2-45af-9268-c5c01aa9b709",
   "metadata": {},
   "outputs": [],
   "source": [
    "# Vectorization\n",
    "vp_dict = a_zotero.vectorize( projection_fp=pm['zotero_projection_fp'] )\n",
    "c_zotero = cartography.Cartographer( **vp_dict )"
   ]
  },
  {
   "cell_type": "markdown",
   "id": "82099566-7642-4b5b-bb0b-ea425253c6ce",
   "metadata": {
    "tags": []
   },
   "source": [
    "## Large Atlas"
   ]
  },
  {
   "cell_type": "code",
   "execution_count": null,
   "id": "1e0fb8bb-5ccb-4773-94d8-665322bd7b86",
   "metadata": {},
   "outputs": [],
   "source": [
    "# Larger atlas\n",
    "a = atlas.Atlas( atlas_dir, load_bibtex=False, )"
   ]
  },
  {
   "cell_type": "markdown",
   "id": "52c58dce-de2c-435e-b3e8-2bf578b67252",
   "metadata": {
    "tags": []
   },
   "source": [
    "## Tex Draft"
   ]
  },
  {
   "cell_type": "code",
   "execution_count": null,
   "id": "4e141504-33ba-4d25-859f-04491a04ffbb",
   "metadata": {},
   "outputs": [],
   "source": [
    "pub_doc = tex.Tex( filepath=pm['tex_fp'] )"
   ]
  },
  {
   "cell_type": "code",
   "execution_count": null,
   "id": "48b68206-5a9d-49ae-8b94-508c8b6d0198",
   "metadata": {},
   "outputs": [],
   "source": [
    "abstract = pub_doc.string.split( '\\\\begin{abstract}' )[1].split( '\\\\end{abstract}' )[0]"
   ]
  },
  {
   "cell_type": "code",
   "execution_count": null,
   "id": "2fee7448-4da1-46e0-a50f-6ce06acf27a2",
   "metadata": {},
   "outputs": [],
   "source": [
    "print( abstract )"
   ]
  },
  {
   "cell_type": "markdown",
   "id": "2ca2930f-62e4-488e-b68d-08631b21745a",
   "metadata": {
    "tags": []
   },
   "source": [
    "# Incorporate Topics and Abstract"
   ]
  },
  {
   "cell_type": "markdown",
   "id": "5ced2690-186a-4f54-b033-a1f0bd8395ca",
   "metadata": {},
   "source": [
    "## Paper Abstract"
   ]
  },
  {
   "cell_type": "code",
   "execution_count": null,
   "id": "bed95a3c-147e-4658-8129-758b5ec63a32",
   "metadata": {},
   "outputs": [],
   "source": [
    "p = publication.UnofficialPublication( pm['citation_key'] )"
   ]
  },
  {
   "cell_type": "code",
   "execution_count": null,
   "id": "454422ee-c318-4062-b3fc-a1b0f0959a71",
   "metadata": {},
   "outputs": [],
   "source": [
    "p.process_abstract( abstract_str = abstract )"
   ]
  },
  {
   "cell_type": "code",
   "execution_count": null,
   "id": "700d088d-6f1a-43f3-9303-f52ad50e0537",
   "metadata": {},
   "outputs": [],
   "source": [
    "a.data[p.citation_key] = copy.deepcopy( p )"
   ]
  },
  {
   "cell_type": "markdown",
   "id": "108d16c0-a4cd-4a55-8e59-12ed694a8c3e",
   "metadata": {},
   "source": [
    "## Topics"
   ]
  },
  {
   "cell_type": "code",
   "execution_count": null,
   "id": "9d597e74-26b2-4522-87c6-0a5148e567f8",
   "metadata": {},
   "outputs": [],
   "source": [
    "for key, publications in topics.items():\n",
    "    \n",
    "    # Create abstract string\n",
    "    abstract_str = copy.copy( search_strs[key] )\n",
    "    for cite_key in publications:\n",
    "        abstract_str += a[cite_key].abstract_str()\n",
    "    \n",
    "    # Add publication\n",
    "    p = publication.UnofficialPublication( key )\n",
    "    p.process_abstract( abstract_str=abstract_str )\n",
    "    a.data[key] = copy.deepcopy( p )"
   ]
  },
  {
   "cell_type": "markdown",
   "id": "6550f51b-cb91-4cfa-8a0a-3bbf734c5857",
   "metadata": {},
   "source": [
    "## Emphasis Vector"
   ]
  },
  {
   "cell_type": "code",
   "execution_count": null,
   "id": "64f25d46-6586-4232-85a7-1d5c99e629ab",
   "metadata": {},
   "outputs": [],
   "source": [
    "emph_keys = []\n",
    "emph_coeffs = []\n",
    "for i, emph_i in enumerate( pm['emphasis_vector'] ):\n",
    "    \n",
    "    # Parse\n",
    "    if len( emph_i ) > 2:\n",
    "        key = emph_i[2]\n",
    "    else:\n",
    "        key = emph_i[0]\n",
    "    emph_keys.append( key )\n",
    "    emph_coeffs.append( emph_i[1] )\n",
    "    \n",
    "    # Add publication\n",
    "    p = publication.UnofficialPublication( key )\n",
    "    p.process_abstract( abstract_str=emph_i[0] )\n",
    "    a.data[key] = copy.deepcopy( p )"
   ]
  },
  {
   "cell_type": "markdown",
   "id": "37dfb606-b660-4b38-86b1-7986a293c4a6",
   "metadata": {},
   "source": [
    "## Mark as not for review"
   ]
  },
  {
   "cell_type": "code",
   "execution_count": null,
   "id": "ce95c61f-f61d-4da3-9e52-b3b3e270f1b6",
   "metadata": {},
   "outputs": [],
   "source": [
    "topics_and_center = [ pm['citation_key'], ] + list( topics.keys() )"
   ]
  },
  {
   "cell_type": "code",
   "execution_count": null,
   "id": "18984d11-d47f-4533-b033-597bf772a329",
   "metadata": {},
   "outputs": [],
   "source": [
    "for key in topics_and_center:\n",
    "    notes['addressed'].append( key )\n",
    "for key in emph_keys:\n",
    "    notes['addressed'].append( key )\n",
    "notes['addressed'] = list( set( notes['addressed'] ) )"
   ]
  },
  {
   "cell_type": "markdown",
   "id": "daf70a24-cc2d-4375-8ce6-f706292b0851",
   "metadata": {},
   "source": [
    "## Vectorize"
   ]
  },
  {
   "cell_type": "code",
   "execution_count": null,
   "id": "255c23ce-c979-40c6-8b0c-77cb435a38ed",
   "metadata": {},
   "outputs": [],
   "source": [
    "# Vectorization\n",
    "vp_dict = a.vectorize( overwrite=True )\n",
    "c = cartography.Cartographer( **vp_dict )"
   ]
  },
  {
   "cell_type": "code",
   "execution_count": null,
   "id": "dad7fc0a-870d-4183-b7c1-c84f4b3c8102",
   "metadata": {},
   "outputs": [],
   "source": [
    "inds_series = pd.Series( c.inds, c.publications )"
   ]
  },
  {
   "cell_type": "markdown",
   "id": "0bde7d77-ef79-4ea0-9846-11e32c6da47f",
   "metadata": {},
   "source": [
    "### Edit Vectorization for Emphasis"
   ]
  },
  {
   "cell_type": "code",
   "execution_count": null,
   "id": "5f70dc77-86f3-47a5-a041-d068f6a9cda4",
   "metadata": {},
   "outputs": [],
   "source": [
    "# Create the emphasis vector\n",
    "emph_inds = inds_series.loc[emph_keys].values\n",
    "emph_vector = ( np.array( emph_coeffs ) * c.vectors[emph_inds] )\n",
    "emph_vector /= np.linalg.norm( emph_vector )"
   ]
  },
  {
   "cell_type": "code",
   "execution_count": null,
   "id": "cb4f3f0b-93d5-4d4e-94b2-cb971bc675ea",
   "metadata": {},
   "outputs": [],
   "source": [
    "# Add the emphasis vector\n",
    "tac_inds = inds_series.loc[[pm['citation_key'],]]\n",
    "tac_vectors = c.vectors[tac_inds]\n",
    "tac_vectors += emph_vector * c.norms[tac_inds] * pm['emphasis_scaling']\n",
    "tac_vectors = ss.csr_matrix( tac_vectors )\n",
    "c.vectors[tac_inds] = tac_vectors"
   ]
  },
  {
   "cell_type": "code",
   "execution_count": null,
   "id": "f3d13656-93e9-4ec3-afa8-899b38b50bcb",
   "metadata": {},
   "outputs": [],
   "source": [
    "# Store new norms\n",
    "tac_norm_squared_unformatted = tac_vectors.multiply( tac_vectors ).sum( axis=1 )\n",
    "tac_norms = np.sqrt( np.array( tac_norm_squared_unformatted ).flatten() )\n",
    "c.norms[tac_inds] = tac_norms"
   ]
  },
  {
   "cell_type": "markdown",
   "id": "663f575e-3e74-473a-b0e5-210b664e725c",
   "metadata": {
    "tags": []
   },
   "source": [
    "# Map"
   ]
  },
  {
   "cell_type": "markdown",
   "id": "02969cf8-0f8d-4932-a1fa-c1b6601c6364",
   "metadata": {},
   "source": [
    "## Calculate Maps"
   ]
  },
  {
   "cell_type": "code",
   "execution_count": null,
   "id": "b77cd1e3-d052-4ee5-bea1-885ea2503b82",
   "metadata": {},
   "outputs": [],
   "source": [
    "coords, inds, pairs = c.map(\n",
    "    pm['citation_key'],\n",
    "    max_links = 10,\n",
    ")"
   ]
  },
  {
   "cell_type": "markdown",
   "id": "3c958e55-9538-4e89-8162-5a4672b3994f",
   "metadata": {},
   "source": [
    "## Colors"
   ]
  },
  {
   "cell_type": "code",
   "execution_count": null,
   "id": "581c0fc9-b9fe-414c-afd0-916a0eb2d017",
   "metadata": {},
   "outputs": [],
   "source": [
    "# Get the values we'll color by, starting with similarity\n",
    "color_values = {}\n",
    "color_values[pm['citation_key']] = c.cospsi( pm['citation_key'], 'all' )\n",
    "for variation in cp.variations:\n",
    "    color_values[variation] = c.cospsi( variation, 'all' )"
   ]
  },
  {
   "cell_type": "code",
   "execution_count": null,
   "id": "c3e7bb4c-49ff-4472-bb65-3c1bb2957fb6",
   "metadata": {},
   "outputs": [],
   "source": [
    "# Add density\n",
    "color_values['density'] = c.topography_metric( metric='density' )"
   ]
  },
  {
   "cell_type": "code",
   "execution_count": null,
   "id": "fe3ead6d-38b6-47d9-8a64-a1ddfe060d98",
   "metadata": {},
   "outputs": [],
   "source": [
    "# Add citations/year\n",
    "citations_per_year = np.array([ a[_].citations_per_year() for _ in c.publications ])\n",
    "color_values['citations_per_year'] = citations_per_year"
   ]
  },
  {
   "cell_type": "code",
   "execution_count": null,
   "id": "133da61a-d5b9-4abb-8604-2a308bb890af",
   "metadata": {},
   "outputs": [],
   "source": [
    "logscale = topics_and_center"
   ]
  },
  {
   "cell_type": "code",
   "execution_count": null,
   "id": "96440e8a-9714-4330-8e83-261eacd05c60",
   "metadata": {},
   "outputs": [],
   "source": [
    "# Convert to colors\n",
    "colors = {}\n",
    "for key, cvs in color_values.items():\n",
    "    vmin = np.nanpercentile( cvs, 1 )\n",
    "    vmax = np.nanpercentile( cvs, 99 )\n",
    "    if key in logscale:\n",
    "        norm_fn = matplotlib.colors.LogNorm\n",
    "        vmin = np.nanpercentile( cvs[cvs>0.], 1 )\n",
    "    else:\n",
    "        norm_fn = matplotlib.colors.Normalize\n",
    "    normed_cvs = norm_fn( vmin=vmin, vmax=vmax )( cvs[inds] )\n",
    "    colors[key] = palettable.cubehelix.classic_16.mpl_colormap( normed_cvs )"
   ]
  },
  {
   "cell_type": "markdown",
   "id": "78d84658-de18-491f-a9e7-a20d9554d6d7",
   "metadata": {},
   "source": [
    "## Hatching"
   ]
  },
  {
   "cell_type": "code",
   "execution_count": null,
   "id": "b22d563b-5ad4-4f9a-a0d6-7f4c70c5f5eb",
   "metadata": {},
   "outputs": [],
   "source": [
    "hatching = [ '/' if _ in notes['addressed'] else None for _ in c.publications[inds] ]"
   ]
  },
  {
   "cell_type": "markdown",
   "id": "e825ce6b-b977-4c25-a1b5-ac92aa87407b",
   "metadata": {},
   "source": [
    "## Plotting"
   ]
  },
  {
   "cell_type": "markdown",
   "id": "7c780c06-9099-4d2d-9920-0430e1723e1c",
   "metadata": {},
   "source": [
    "### Overall View"
   ]
  },
  {
   "cell_type": "code",
   "execution_count": null,
   "id": "cee8dcbe-1b8c-4ff0-a00d-3f8ded2d9cd0",
   "metadata": {},
   "outputs": [],
   "source": [
    "fig = plt.figure()\n",
    "ax = plt.gca()\n",
    "\n",
    "ax, (coords0, inds0, pairs0) = c.plot_map(\n",
    "    pm['citation_key'],\n",
    "    data = ( coords, inds, pairs ),\n",
    "    ax = ax,\n",
    "    # xlim = [ -5, 5 ],\n",
    "    # ylim = [ -5, 5 ],\n",
    "    clean_plot = False,\n",
    "    scatter = False,\n",
    "    histogram = True,\n",
    "    voronoi = False,\n",
    "    # voronoi_kwargs = { 'colors': colors, 'edgecolor': 'none' },\n",
    "    labels = False,\n",
    "    # labels_formatter = label_formatter,\n",
    "    labels_kwargs = { 'fontsize': 6 },\n",
    ")"
   ]
  },
  {
   "cell_type": "code",
   "execution_count": null,
   "id": "05f06e30-23dc-45b2-8690-e2d2147e9a20",
   "metadata": {},
   "outputs": [],
   "source": [
    "# Voronoi overview\n",
    "for key, colors_key in colors.items():\n",
    "\n",
    "    fig = plt.figure()\n",
    "    ax = plt.gca()\n",
    "\n",
    "    ax, (coords0, inds0, pairs0) = c.plot_map(\n",
    "        pm['citation_key'],\n",
    "        data = ( coords, inds, pairs ),\n",
    "        ax = ax,\n",
    "        xlim = [ -1, 1 ],\n",
    "        ylim = [ -1, 1 ],\n",
    "        clean_plot = False,\n",
    "        scatter = False,\n",
    "        histogram = False,\n",
    "        voronoi = True,\n",
    "        voronoi_kwargs = { 'colors': colors_key, 'edgecolors': colors_key },\n",
    "        labels = False,\n",
    "        # labels_formatter = label_formatter,\n",
    "        labels_kwargs = { 'fontsize': 6 },\n",
    "    )\n",
    "    \n",
    "    ax.annotate(\n",
    "        text = key,\n",
    "        xy = ( 0, 1 ),\n",
    "        xycoords = 'axes fraction',\n",
    "        xytext = ( 5, 5 ),\n",
    "        textcoords = 'offset points',\n",
    "        va = 'bottom',\n",
    "        ha = 'left',\n",
    "    )\n",
    "    \n",
    "    fig"
   ]
  },
  {
   "cell_type": "markdown",
   "id": "284200f2-daa7-45b2-9795-4dd80e2b1786",
   "metadata": {},
   "source": [
    "### Zoomed"
   ]
  },
  {
   "cell_type": "code",
   "execution_count": null,
   "id": "998ea018-88c7-4cf7-8e09-d7da8521de8d",
   "metadata": {},
   "outputs": [],
   "source": [
    "center_key = 'multicloud_modeling'\n",
    "colors_key = colors[center_key]"
   ]
  },
  {
   "cell_type": "code",
   "execution_count": null,
   "id": "c304bbc7-f52f-4f55-beda-f7ed165561fb",
   "metadata": {},
   "outputs": [],
   "source": [
    "import re\n",
    "def labels_formatter( i, m_i, c ):\n",
    "    key = c.publications[i]\n",
    "    key_split = re.findall( r'[^\\W\\d_]+|\\d+', key )\n",
    "    if '.' in key:\n",
    "        return '{}'.format( m_i )\n",
    "    else:\n",
    "        if len( key_split ) > 1:\n",
    "            if not key_split[-1].isalpha():\n",
    "                year = key_split[-1][2:]\n",
    "            else:\n",
    "                year = key_split[-2][2:]\n",
    "        else:\n",
    "            year = ''\n",
    "        label = '{}: {}{}'.format( m_i, key[:3], year )\n",
    "        return label"
   ]
  },
  {
   "cell_type": "code",
   "execution_count": null,
   "id": "f35ad533-99dd-4011-a5f4-a4c6f10f7676",
   "metadata": {},
   "outputs": [],
   "source": [
    "fig = plt.figure()\n",
    "ax = plt.gca()\n",
    "\n",
    "ax, (coords0, inds0, pairs0) = c.plot_map(\n",
    "    pm['citation_key'],\n",
    "    data = ( coords, inds, pairs ),\n",
    "    ax = ax,\n",
    "    xlim = [ -0.5, 0.5 ],\n",
    "    ylim = [ -0.5, 0.5 ],\n",
    "    clean_plot = False,\n",
    "    scatter = False,\n",
    "    histogram = False,\n",
    "    voronoi = True,\n",
    "    voronoi_kwargs = { 'colors': colors_key, 'hatching': hatching, 'default_edgecolor': 'none' },\n",
    "    labels = True,\n",
    "    labels_formatter = labels_formatter,\n",
    "    labels_kwargs = { 'fontsize': 6 },\n",
    ")\n",
    "\n",
    "ax.annotate(\n",
    "    text = center_key,\n",
    "    xy = ( 0, 1 ),\n",
    "    xycoords = 'axes fraction',\n",
    "    xytext = ( 5, 5 ),\n",
    "    textcoords = 'offset points',\n",
    "    va = 'bottom',\n",
    "    ha = 'left',\n",
    ")"
   ]
  },
  {
   "cell_type": "code",
   "execution_count": null,
   "id": "7e51958f-9f0b-4164-8242-74a15856f318",
   "metadata": {},
   "outputs": [],
   "source": [
    "m_i = 49\n",
    "i = inds[m_i]\n",
    "key = c.publications[i]\n",
    "print( a.data[key].citation )\n",
    "print( a.data[key].abstract_str() )"
   ]
  },
  {
   "cell_type": "markdown",
   "id": "eb7b7feb-e476-4751-a996-8e39f7397915",
   "metadata": {},
   "source": [
    "# Create a Reading List"
   ]
  },
  {
   "cell_type": "markdown",
   "id": "72171ba6-e9f6-4093-bbc5-18a0fce62e9f",
   "metadata": {
    "tags": []
   },
   "source": [
    "## Setup"
   ]
  },
  {
   "cell_type": "code",
   "execution_count": null,
   "id": "350b7cab-e610-4c22-ab66-4dbb78693e81",
   "metadata": {},
   "outputs": [],
   "source": [
    "if pm['variation'] not in topics_data['not_included']:\n",
    "    topics_data['not_included'][pm['variation']] = []"
   ]
  },
  {
   "cell_type": "code",
   "execution_count": null,
   "id": "df100dc0-878d-4722-b6a8-947712d771db",
   "metadata": {},
   "outputs": [],
   "source": [
    "def sort_by_similarity( target_key, c ):\n",
    "    \n",
    "    cospsi = c.cospsi( target_key, 'all' )\n",
    "    sort_inds = np.argsort(cospsi)[::-1]\n",
    "    sorted_cospsi = cospsi[sort_inds]\n",
    "    sorted_publications = c.publications[sort_inds]\n",
    "    \n",
    "    return sorted_cospsi, sorted_publications"
   ]
  },
  {
   "cell_type": "code",
   "execution_count": null,
   "id": "f62a2bbd-aa39-421b-baef-f3f7ee2d0a51",
   "metadata": {},
   "outputs": [],
   "source": [
    "def print_sorted_publications(\n",
    "    sorted_cospsi,\n",
    "    sorted_publications,\n",
    "    kernel_size,\n",
    "    a,\n",
    "    show_unread_only = False,\n",
    "    do_not_show_included = True,\n",
    "    do_not_show_not_included = True,\n",
    "    central_publication = '',\n",
    "):\n",
    "\n",
    "#     print( 'The {} most related publications are...\\n'.format( kernel_size ) )\n",
    "\n",
    "    n_shown = 0\n",
    "    for i, key_i in enumerate( sorted_publications ):\n",
    "                \n",
    "        if i > kernel_size:\n",
    "            break\n",
    "                \n",
    "        if key_i not in a.data:\n",
    "            continue\n",
    "        \n",
    "        p_i = a[key_i]\n",
    "\n",
    "        if 'read' in p_i.notes:\n",
    "            read_flag = p_i.notes['read']\n",
    "        else:\n",
    "            read_flag = 'UNREAD'\n",
    "        if show_unread_only and read_flag != 'UNREAD':\n",
    "            continue\n",
    "            \n",
    "        included_flag = key_i in pub_doc.string           \n",
    "        deliberately_not_included = key_i in topics_data['not_included'][pm['variation']]\n",
    "        \n",
    "        if do_not_show_included and included_flag:\n",
    "            continue\n",
    "        if do_not_show_not_included and deliberately_not_included:\n",
    "            continue\n",
    "\n",
    "        if not isinstance( p_i, publication.UnofficialPublication ):\n",
    "            print( '{} -- {}'.format( n_shown, key_i, ) )\n",
    "            print( p_i.citation['title'] )\n",
    "            print( p_i.citation['author'] )\n",
    "            print( 'Related rank: {}.{}'.format( i, central_publication ) ) \n",
    "            print( 'Read: {}'.format( ''.join( read_flag ) ) )\n",
    "            print( 'Included: {}'.format( included_flag ) )\n",
    "            print( p_i.citation['ENTRYTYPE'] + '\\n' )\n",
    "            print( p_i.points_str() + '\\n\\n' )\n",
    "        else:\n",
    "            pass\n",
    "#             print( '{} -- {}'.format( n_shown, key_i, ) )\n",
    "#             print( 'Related rank: {}.{}'.format( i, central_publication ) ) \n",
    "        \n",
    "        n_shown += 1\n",
    "\n"
   ]
  },
  {
   "cell_type": "markdown",
   "id": "8b95166c-ee92-480c-bf78-e7f06011617b",
   "metadata": {
    "tags": []
   },
   "source": [
    "## Conservative Reading List\n",
    "For the average abstract in combination with chosen words."
   ]
  },
  {
   "cell_type": "markdown",
   "id": "c2836f21-2b6b-4274-a601-c06420706687",
   "metadata": {
    "tags": []
   },
   "source": [
    "### Create and add average vector"
   ]
  },
  {
   "cell_type": "code",
   "execution_count": null,
   "id": "6911d5f5-2138-49e5-ac50-fc4171a20206",
   "metadata": {},
   "outputs": [],
   "source": [
    "# Can add chosen words if so wished.\n",
    "search_str = ''"
   ]
  },
  {
   "cell_type": "code",
   "execution_count": null,
   "id": "0b9e5e45-ed74-4e52-8de0-69ffd33671ff",
   "metadata": {},
   "outputs": [],
   "source": [
    "for i, key_i in enumerate( pm['publications'] ):\n",
    "    search_str += a[key_i].points_str()"
   ]
  },
  {
   "cell_type": "code",
   "execution_count": null,
   "id": "d5e1912c-9b6b-41f4-af32-e4021e73e325",
   "metadata": {},
   "outputs": [],
   "source": [
    "if 'search_str' in pm:\n",
    "    search_str += pm['search_str']"
   ]
  },
  {
   "cell_type": "code",
   "execution_count": null,
   "id": "a7a7370f-aa5d-4e34-a149-668e487cf417",
   "metadata": {},
   "outputs": [],
   "source": [
    "p = publication.UnofficialPublication( pm['variation'] )"
   ]
  },
  {
   "cell_type": "code",
   "execution_count": null,
   "id": "6d1df85a-d995-4e0d-a627-3f34037598df",
   "metadata": {},
   "outputs": [],
   "source": [
    "p.process_abstract( abstract_str=search_str )"
   ]
  },
  {
   "cell_type": "code",
   "execution_count": null,
   "id": "996deefd-d226-4656-b251-a4f5bd8a22e6",
   "metadata": {},
   "outputs": [],
   "source": [
    "a.data[pm['variation']] = p"
   ]
  },
  {
   "cell_type": "code",
   "execution_count": null,
   "id": "a9d980d8-3e62-4cea-a18b-a6fdfadbfbd9",
   "metadata": {},
   "outputs": [],
   "source": [
    "a.update( a_zotero )\n",
    "a.prune_duplicates(preferred=list(a_zotero.data.keys()))"
   ]
  },
  {
   "cell_type": "code",
   "execution_count": null,
   "id": "e93f9c6a-12ed-493d-be58-025f3aac8805",
   "metadata": {},
   "outputs": [],
   "source": [
    "# Vectorize\n",
    "vp_dict = a.vectorize( overwrite=True, projection_fp='pass', )\n",
    "c = cartography.Cartographer( **vp_dict )"
   ]
  },
  {
   "cell_type": "code",
   "execution_count": null,
   "id": "0e5e2283-d9c8-4b3f-b8de-150c40c1ba64",
   "metadata": {},
   "outputs": [],
   "source": [
    "map_fp = os.path.join( a.atlas_dir, 'map.h5' )\n",
    "coords, inds, pairs = c.map( pm['citation_key'], save_filepath=map_fp, )"
   ]
  },
  {
   "cell_type": "markdown",
   "id": "7539c0ce-9cf7-413d-b7d0-c2484c4593d8",
   "metadata": {},
   "source": [
    "### Produce reading list"
   ]
  },
  {
   "cell_type": "code",
   "execution_count": null,
   "id": "d8d7cfbb-3bac-42e0-96dd-73bf563d8e4d",
   "metadata": {},
   "outputs": [],
   "source": [
    "sorted_cospsi, sorted_publications = sort_by_similarity( pm['variation'], c )"
   ]
  },
  {
   "cell_type": "code",
   "execution_count": null,
   "id": "a6f4bb4c-d122-464d-8864-e8be784d8fc7",
   "metadata": {},
   "outputs": [],
   "source": [
    "pub_doc = tex.Tex( filepath=pm['tex_fp'] )"
   ]
  },
  {
   "cell_type": "code",
   "execution_count": null,
   "id": "d9060286-5c6e-4870-a5e2-e0ccad9221dc",
   "metadata": {},
   "outputs": [],
   "source": [
    "topics_data['not_included'][pm['variation']].append( '2012ApJ...750...10S' )\n",
    "topics_data['not_included'][pm['variation']] = list( set( topics_data['not_included'][pm['variation']] ) )\n",
    "topics_data.to_json( topics_fp )"
   ]
  },
  {
   "cell_type": "code",
   "execution_count": null,
   "id": "fc5fff87-0cdd-457b-a32d-49ebc833178e",
   "metadata": {},
   "outputs": [],
   "source": [
    "ax, _ = c.plot_map(\n",
    "    pm['citation_key'],\n",
    "    data = ( coords, inds, pairs ),\n",
    "    scatter = False,\n",
    "    histogram = True,\n",
    "    clean_plot = False,\n",
    ")"
   ]
  },
  {
   "cell_type": "code",
   "execution_count": null,
   "id": "e435e1d8-1a17-4179-8b12-4720f03e804c",
   "metadata": {},
   "outputs": [],
   "source": [
    "ax, _ = c.plot_map(\n",
    "    pm['citation_key'],\n",
    "    data = ( coords, inds, pairs ),\n",
    "    scatter = False,\n",
    "    histogram = True,\n",
    "    clean_plot = False,\n",
    "    xlim = [ -0.2, 0.2 ],\n",
    "    ylim = [ -0.2, 0.2 ],\n",
    ")"
   ]
  },
  {
   "cell_type": "code",
   "execution_count": null,
   "id": "1a3d257a-abad-4c50-bbf6-57cbb5836e8e",
   "metadata": {},
   "outputs": [],
   "source": [
    "fig = plt.figure()\n",
    "ax = plt.gca()\n",
    "\n",
    "ax, _ = c.plot_map(\n",
    "    pm['citation_key'],\n",
    "    data = ( coords, inds, pairs ),\n",
    "    ax = ax,\n",
    "    scatter = True,\n",
    "    xlim = [ -0.1, 0.1 ],\n",
    "    ylim = [ -0.1, 0.1 ],\n",
    "    clean_plot = False,\n",
    "    labels = True,\n",
    "    labels_kwargs = { 'fontsize': 5 },\n",
    "    voronoi = True,\n",
    "    voronoi_kwargs = { 'offset_magnitude': 0 },\n",
    ")"
   ]
  },
  {
   "cell_type": "code",
   "execution_count": null,
   "id": "3cf21c12-3844-4883-9d56-a36b4a3a888c",
   "metadata": {},
   "outputs": [],
   "source": [
    "print_sorted_publications(\n",
    "    sorted_cospsi,\n",
    "    sorted_publications,\n",
    "    pm['kernel_size'] * 2,\n",
    "    a,\n",
    "    do_not_show_included = True,\n",
    "    do_not_show_not_included = True,\n",
    "    central_publication = pm['variation'],\n",
    ")"
   ]
  },
  {
   "cell_type": "markdown",
   "id": "9507048e-125d-40b8-98fd-baf426e484c5",
   "metadata": {
    "tags": []
   },
   "source": [
    "## Extensive Reading List\n",
    "For each and everyone of the publications."
   ]
  },
  {
   "cell_type": "code",
   "execution_count": null,
   "id": "380a9b9d-8255-4dfe-a5c9-e9d0bfcb99a6",
   "metadata": {},
   "outputs": [],
   "source": [
    "a_pubs = []\n",
    "sorted_cospsis = []\n",
    "sorted_publications = []\n",
    "for i, key_i in enumerate( pm['publications'] ):\n",
    "    a_i = atlas.Atlas(atlas_dir, load_bibtex=False, load_atlas_data=False )\n",
    "    a_i.data[key_i] = a[key_i]\n",
    "    \n",
    "    # Identify relevant publications\n",
    "    sorted_cospsi_i, sorted_publications_i = sort_by_similarity( key_i, c )\n",
    "    sorted_cospsis.append( sorted_cospsi_i )\n",
    "    sorted_publications.append( sorted_publications_i )\n",
    "\n",
    "    for key in sorted_publications_i:\n",
    "\n",
    "        # Get missing publications\n",
    "        if key in a_zotero.data:\n",
    "            a_i.data[key] = a_zotero.data[key]\n",
    "        elif key in a.data:\n",
    "            a_i.data[key] = a.data[key]\n",
    "\n",
    "    a_i.prune_duplicates(preferred=list(a_zotero.data.keys()))\n",
    "    \n",
    "    a_pubs.append( a_i )"
   ]
  },
  {
   "cell_type": "code",
   "execution_count": null,
   "id": "16294c59-cbf4-47c6-8f1a-4696735d5800",
   "metadata": {},
   "outputs": [],
   "source": [
    "pub_doc = tex.Tex( filepath=pm['tex_fp'] )"
   ]
  },
  {
   "cell_type": "code",
   "execution_count": null,
   "id": "9d228b81-e1f1-44f9-8688-37dfab0117ae",
   "metadata": {},
   "outputs": [],
   "source": [
    "topics_data['not_included'][pm['variation']].append( '2017MNRAS.466.3460V' )\n",
    "topics_data.to_json( topics_fp )"
   ]
  },
  {
   "cell_type": "code",
   "execution_count": null,
   "id": "f1655fce-ac25-4091-974a-3bbf5579124f",
   "metadata": {
    "tags": []
   },
   "outputs": [],
   "source": [
    "for i, a_i in enumerate( a_pubs ):\n",
    "    \n",
    "#     print( '===============================================================================' )\n",
    "#     print( pm['publications'][i] + '\\n' )\n",
    "    \n",
    "    print_sorted_publications(\n",
    "        sorted_cospsis[i],\n",
    "        sorted_publications[i],\n",
    "        pm['kernel_size'],\n",
    "        a_i,\n",
    "        do_not_show_included = True,\n",
    "        do_not_show_not_included = True,\n",
    "        central_publication = pm['publications'][i],\n",
    "    )"
   ]
  },
  {
   "cell_type": "code",
   "execution_count": null,
   "id": "d3db88ab-3ae3-4490-9329-a6c3785d0e1e",
   "metadata": {},
   "outputs": [],
   "source": []
  },
  {
   "cell_type": "code",
   "execution_count": null,
   "id": "721bec52-5366-4639-887c-3ae4a1807269",
   "metadata": {},
   "outputs": [],
   "source": []
  }
 ],
 "metadata": {
  "kernelspec": {
   "display_name": "Python 3 (ipykernel)",
   "language": "python",
   "name": "python3"
  },
  "language_info": {
   "codemirror_mode": {
    "name": "ipython",
    "version": 3
   },
   "file_extension": ".py",
   "mimetype": "text/x-python",
   "name": "python",
   "nbconvert_exporter": "python",
   "pygments_lexer": "ipython3",
   "version": "3.9.12"
  }
 },
 "nbformat": 4,
 "nbformat_minor": 5
}
