{
 "cells": [
  {
   "cell_type": "code",
   "execution_count": null,
   "id": "3eef3471-0d5b-4829-bb49-93d9a1bf03cd",
   "metadata": {},
   "outputs": [],
   "source": [
    "import ast\n",
    "import copy\n",
    "import numpy as np\n",
    "import os\n",
    "import pandas as pd\n",
    "import scipy\n",
    "import scipy.sparse as ss"
   ]
  },
  {
   "cell_type": "code",
   "execution_count": null,
   "id": "1b45a75a-49af-4a69-8e52-f22df0af0d96",
   "metadata": {},
   "outputs": [],
   "source": [
    "import cc.atlas as atlas\n",
    "import cc.cartography as cartography\n",
    "import cc.publication as publication\n",
    "import cc.utils as utils\n",
    "import cc.tex as tex"
   ]
  },
  {
   "cell_type": "code",
   "execution_count": null,
   "id": "bb4c3430-894b-4d53-8273-af1be1c28030",
   "metadata": {},
   "outputs": [],
   "source": [
    "import matplotlib\n",
    "import matplotlib.pyplot as plt\n",
    "matplotlib.style.use( '~/repos/clean-bold/clean-bold.mplstyle' )\n",
    "import palettable"
   ]
  },
  {
   "cell_type": "code",
   "execution_count": null,
   "id": "9742dac7-df12-4f7f-9035-106fd5c8bd36",
   "metadata": {},
   "outputs": [],
   "source": [
    "import trove\n",
    "import verdict"
   ]
  },
  {
   "cell_type": "markdown",
   "id": "01455185-77b9-4443-9e4c-ec55289c1324",
   "metadata": {
    "tags": []
   },
   "source": [
    "# Literature Review\n",
    "\n",
    "This notebook contains a record of how I performed the literature review for this work."
   ]
  },
  {
   "cell_type": "markdown",
   "id": "2d02929c-d4b0-4c95-94b6-3f7613d4f77c",
   "metadata": {},
   "source": [
    "# Parameters"
   ]
  },
  {
   "cell_type": "code",
   "execution_count": null,
   "id": "cbaf46ef-ed61-445e-91ce-905784206dbb",
   "metadata": {},
   "outputs": [],
   "source": [
    "config_fp = '/Users/zhafen/paper_repos/cgm_modeling_challenge_paper/literature_review/literature_review.trove'\n",
    "cp = trove.config_parser.ConfigParser( config_fp )\n",
    "pm = trove.link_params_to_config(\n",
    "    config_fp,\n",
    "    variation = 'multicloud_modeling',\n",
    ")"
   ]
  },
  {
   "cell_type": "code",
   "execution_count": null,
   "id": "55a891a7-35cb-4237-989f-3c2dec90d3f2",
   "metadata": {},
   "outputs": [],
   "source": [
    "atlas_dir = pm['root_data_dir']"
   ]
  },
  {
   "cell_type": "code",
   "execution_count": null,
   "id": "576e7d94-11c0-47e5-b3e4-8d74849e447b",
   "metadata": {},
   "outputs": [],
   "source": [
    "topics = {}\n",
    "search_strs = {}\n",
    "for variation in cp.variations:\n",
    "    topics[variation] = ast.literal_eval( cp.get( variation, 'publications' ) )\n",
    "    try:\n",
    "        search_strs[variation] = ast.literal_eval( cp.get( variation, 'search_str' ) )\n",
    "    except:\n",
    "        search_strs[variation] = ''\n",
    "    if ( len( topics[variation] ) == 1 ) and ( search_strs[variation] == '' ):\n",
    "        raise ValueError( 'Topics that are just copies of papers will be tossed out. Use the paper itself instead or add a search string.' )"
   ]
  },
  {
   "cell_type": "markdown",
   "id": "f6489937-4f3a-4358-b99c-0255cff2effa",
   "metadata": {
    "tags": []
   },
   "source": [
    "# Load Data"
   ]
  },
  {
   "cell_type": "markdown",
   "id": "346234c8-e5bb-4023-a5cf-cfddec7a8b0e",
   "metadata": {},
   "source": [
    "## Notes"
   ]
  },
  {
   "cell_type": "code",
   "execution_count": null,
   "id": "16e275ac-00ca-4ade-9f4a-2423980be847",
   "metadata": {},
   "outputs": [],
   "source": [
    "notes_fp = os.path.join( pm['root_data_dir'], 'notes.json' )\n",
    "notes = verdict.Dict.from_json( notes_fp, create_nonexisting=True )"
   ]
  },
  {
   "cell_type": "code",
   "execution_count": null,
   "id": "5f84fdb0-1eb3-43d0-b67c-4e7f06a1b37d",
   "metadata": {},
   "outputs": [],
   "source": [
    "if 'addressed' not in notes:\n",
    "    notes['addressed'] = []"
   ]
  },
  {
   "cell_type": "markdown",
   "id": "98f0e0a0-7ed9-41ad-a8bb-af5651b41e81",
   "metadata": {
    "tags": []
   },
   "source": [
    "## Zotero Atlas"
   ]
  },
  {
   "cell_type": "code",
   "execution_count": null,
   "id": "94785674-430a-42e4-8411-690472baca03",
   "metadata": {},
   "outputs": [],
   "source": [
    "# Larger atlas\n",
    "a_zotero = atlas.Atlas( atlas_dir, load_bibtex=False, data_fp=pm['zotero_atlas_fp'] )"
   ]
  },
  {
   "cell_type": "code",
   "execution_count": null,
   "id": "8e4e9beb-6be2-45af-9268-c5c01aa9b709",
   "metadata": {},
   "outputs": [],
   "source": [
    "# Vectorization\n",
    "vp_dict = a_zotero.vectorize( projection_fp=pm['zotero_projection_fp'] )\n",
    "c_zotero = cartography.Cartographer( **vp_dict )"
   ]
  },
  {
   "cell_type": "markdown",
   "id": "82099566-7642-4b5b-bb0b-ea425253c6ce",
   "metadata": {
    "tags": []
   },
   "source": [
    "## Large Atlas"
   ]
  },
  {
   "cell_type": "code",
   "execution_count": null,
   "id": "1e0fb8bb-5ccb-4773-94d8-665322bd7b86",
   "metadata": {},
   "outputs": [],
   "source": [
    "# Larger atlas\n",
    "a = atlas.Atlas( atlas_dir, load_bibtex=False, )"
   ]
  },
  {
   "cell_type": "code",
   "execution_count": null,
   "id": "c71340d4-e6f2-403e-aa7b-be761cea891c",
   "metadata": {},
   "outputs": [],
   "source": [
    "a.update( a_zotero )"
   ]
  },
  {
   "cell_type": "markdown",
   "id": "52c58dce-de2c-435e-b3e8-2bf578b67252",
   "metadata": {
    "tags": []
   },
   "source": [
    "## Tex Draft"
   ]
  },
  {
   "cell_type": "code",
   "execution_count": null,
   "id": "4e141504-33ba-4d25-859f-04491a04ffbb",
   "metadata": {},
   "outputs": [],
   "source": [
    "pub_doc = tex.Tex( filepath=pm['tex_fp'] )"
   ]
  },
  {
   "cell_type": "code",
   "execution_count": null,
   "id": "48b68206-5a9d-49ae-8b94-508c8b6d0198",
   "metadata": {},
   "outputs": [],
   "source": [
    "abstract = pub_doc.string.split( '\\\\begin{abstract}' )[1].split( '\\\\end{abstract}' )[0]"
   ]
  },
  {
   "cell_type": "code",
   "execution_count": null,
   "id": "2fee7448-4da1-46e0-a50f-6ce06acf27a2",
   "metadata": {},
   "outputs": [],
   "source": [
    "print( abstract )"
   ]
  },
  {
   "cell_type": "markdown",
   "id": "2ca2930f-62e4-488e-b68d-08631b21745a",
   "metadata": {
    "tags": []
   },
   "source": [
    "# Incorporate Topics and Abstract"
   ]
  },
  {
   "cell_type": "markdown",
   "id": "5ced2690-186a-4f54-b033-a1f0bd8395ca",
   "metadata": {},
   "source": [
    "## Paper Abstract"
   ]
  },
  {
   "cell_type": "code",
   "execution_count": null,
   "id": "bed95a3c-147e-4658-8129-758b5ec63a32",
   "metadata": {},
   "outputs": [],
   "source": [
    "p = publication.UnofficialPublication( pm['citation_key'] )"
   ]
  },
  {
   "cell_type": "code",
   "execution_count": null,
   "id": "454422ee-c318-4062-b3fc-a1b0f0959a71",
   "metadata": {},
   "outputs": [],
   "source": [
    "p.process_abstract( abstract_str = abstract )"
   ]
  },
  {
   "cell_type": "code",
   "execution_count": null,
   "id": "700d088d-6f1a-43f3-9303-f52ad50e0537",
   "metadata": {},
   "outputs": [],
   "source": [
    "a.data[p.citation_key] = copy.deepcopy( p )"
   ]
  },
  {
   "cell_type": "markdown",
   "id": "108d16c0-a4cd-4a55-8e59-12ed694a8c3e",
   "metadata": {},
   "source": [
    "## Topics"
   ]
  },
  {
   "cell_type": "code",
   "execution_count": null,
   "id": "9d597e74-26b2-4522-87c6-0a5148e567f8",
   "metadata": {},
   "outputs": [],
   "source": [
    "for key, publications in topics.items():\n",
    "    \n",
    "    # Create abstract string\n",
    "    abstract_str = copy.copy( search_strs[key] )\n",
    "    for cite_key in publications:\n",
    "        abstract_str += a[cite_key].abstract_str()\n",
    "    \n",
    "    # Add publication\n",
    "    p = publication.UnofficialPublication( key )\n",
    "    p.process_abstract( abstract_str=abstract_str )\n",
    "    a.data[key] = copy.deepcopy( p )"
   ]
  },
  {
   "cell_type": "markdown",
   "id": "6550f51b-cb91-4cfa-8a0a-3bbf734c5857",
   "metadata": {},
   "source": [
    "## Emphasis Vector"
   ]
  },
  {
   "cell_type": "code",
   "execution_count": null,
   "id": "64f25d46-6586-4232-85a7-1d5c99e629ab",
   "metadata": {},
   "outputs": [],
   "source": [
    "emph_keys = []\n",
    "emph_coeffs = []\n",
    "for i, emph_i in enumerate( pm['emphasis_vector'] ):\n",
    "    \n",
    "    # Parse\n",
    "    if len( emph_i ) > 2:\n",
    "        key = emph_i[2]\n",
    "    else:\n",
    "        key = emph_i[0]\n",
    "    emph_keys.append( key )\n",
    "    emph_coeffs.append( emph_i[1] )\n",
    "    \n",
    "    # Add publication\n",
    "    p = publication.UnofficialPublication( key )\n",
    "    p.process_abstract( abstract_str=emph_i[0] )\n",
    "    a.data[key] = copy.deepcopy( p )"
   ]
  },
  {
   "cell_type": "markdown",
   "id": "37dfb606-b660-4b38-86b1-7986a293c4a6",
   "metadata": {},
   "source": [
    "## Mark as not for review"
   ]
  },
  {
   "cell_type": "code",
   "execution_count": null,
   "id": "ce95c61f-f61d-4da3-9e52-b3b3e270f1b6",
   "metadata": {},
   "outputs": [],
   "source": [
    "topics_and_center = [ pm['citation_key'], ] + list( topics.keys() )"
   ]
  },
  {
   "cell_type": "code",
   "execution_count": null,
   "id": "18984d11-d47f-4533-b033-597bf772a329",
   "metadata": {},
   "outputs": [],
   "source": [
    "for key in topics_and_center:\n",
    "    notes['addressed'].append( key )\n",
    "for key in emph_keys:\n",
    "    notes['addressed'].append( key )\n",
    "notes['addressed'] = list( set( notes['addressed'] ) )"
   ]
  },
  {
   "cell_type": "markdown",
   "id": "daf70a24-cc2d-4375-8ce6-f706292b0851",
   "metadata": {},
   "source": [
    "## Vectorize"
   ]
  },
  {
   "cell_type": "code",
   "execution_count": null,
   "id": "255c23ce-c979-40c6-8b0c-77cb435a38ed",
   "metadata": {},
   "outputs": [],
   "source": [
    "# Vectorization\n",
    "vp_dict = a.vectorize( overwrite=True )\n",
    "c = cartography.Cartographer( **vp_dict )"
   ]
  },
  {
   "cell_type": "code",
   "execution_count": null,
   "id": "dad7fc0a-870d-4183-b7c1-c84f4b3c8102",
   "metadata": {},
   "outputs": [],
   "source": [
    "inds_series = pd.Series( c.inds, c.publications )"
   ]
  },
  {
   "cell_type": "markdown",
   "id": "0bde7d77-ef79-4ea0-9846-11e32c6da47f",
   "metadata": {},
   "source": [
    "### Edit Vectorization for Emphasis"
   ]
  },
  {
   "cell_type": "code",
   "execution_count": null,
   "id": "5f70dc77-86f3-47a5-a041-d068f6a9cda4",
   "metadata": {},
   "outputs": [],
   "source": [
    "# Create the emphasis vector\n",
    "emph_inds = inds_series.loc[emph_keys].values\n",
    "emph_vector = ( np.array( emph_coeffs ) * c.vectors[emph_inds] )\n",
    "emph_vector /= np.linalg.norm( emph_vector )"
   ]
  },
  {
   "cell_type": "code",
   "execution_count": null,
   "id": "cb4f3f0b-93d5-4d4e-94b2-cb971bc675ea",
   "metadata": {},
   "outputs": [],
   "source": [
    "# Add the emphasis vector\n",
    "tac_inds = inds_series.loc[[pm['citation_key'],]]\n",
    "tac_vectors = c.vectors[tac_inds]\n",
    "tac_vectors += emph_vector * c.norms[tac_inds] * pm['emphasis_scaling']\n",
    "tac_vectors = ss.csr_matrix( tac_vectors )\n",
    "c.vectors[tac_inds] = tac_vectors"
   ]
  },
  {
   "cell_type": "code",
   "execution_count": null,
   "id": "f3d13656-93e9-4ec3-afa8-899b38b50bcb",
   "metadata": {},
   "outputs": [],
   "source": [
    "# Store new norms\n",
    "tac_norm_squared_unformatted = tac_vectors.multiply( tac_vectors ).sum( axis=1 )\n",
    "tac_norms = np.sqrt( np.array( tac_norm_squared_unformatted ).flatten() )\n",
    "c.norms[tac_inds] = tac_norms"
   ]
  },
  {
   "cell_type": "markdown",
   "id": "663f575e-3e74-473a-b0e5-210b664e725c",
   "metadata": {
    "tags": []
   },
   "source": [
    "# Map"
   ]
  },
  {
   "cell_type": "markdown",
   "id": "02969cf8-0f8d-4932-a1fa-c1b6601c6364",
   "metadata": {},
   "source": [
    "## Calculate Maps"
   ]
  },
  {
   "cell_type": "code",
   "execution_count": null,
   "id": "5cbc2a1d-33e0-4860-8c86-3fcf446fe7a9",
   "metadata": {},
   "outputs": [],
   "source": [
    "center_key = 'multicloud_modeling'"
   ]
  },
  {
   "cell_type": "markdown",
   "id": "5ba47745-d3e2-4e2b-ba67-ab427e1ea096",
   "metadata": {},
   "source": [
    "### Preserving Pairwise Distances"
   ]
  },
  {
   "cell_type": "code",
   "execution_count": null,
   "id": "b77cd1e3-d052-4ee5-bea1-885ea2503b82",
   "metadata": {},
   "outputs": [],
   "source": [
    "coords, inds, pairs = c.map(\n",
    "    center_key,\n",
    "    # max_links = 1000,\n",
    ")"
   ]
  },
  {
   "cell_type": "markdown",
   "id": "fd88cb2c-ea3e-4b5a-ab13-ceea29206c21",
   "metadata": {},
   "source": [
    "### Just similarity between two central publications"
   ]
  },
  {
   "cell_type": "code",
   "execution_count": null,
   "id": "9d88977c-a255-42a2-a7ed-798aae1670bf",
   "metadata": {},
   "outputs": [],
   "source": [
    "x = c.cospsi( pm['citation_key'], 'all' )\n",
    "y = c.cospsi( center_key, 'all' )\n",
    "coords_simple = np.array([ x, y ]).transpose()"
   ]
  },
  {
   "cell_type": "markdown",
   "id": "3c958e55-9538-4e89-8162-5a4672b3994f",
   "metadata": {},
   "source": [
    "## Colors"
   ]
  },
  {
   "cell_type": "code",
   "execution_count": null,
   "id": "581c0fc9-b9fe-414c-afd0-916a0eb2d017",
   "metadata": {},
   "outputs": [],
   "source": [
    "# Get the values we'll color by, starting with similarity\n",
    "color_values = {}\n",
    "for key in topics_and_center:\n",
    "    color_values[key] = c.cospsi( key, 'all' )"
   ]
  },
  {
   "cell_type": "code",
   "execution_count": null,
   "id": "c3e7bb4c-49ff-4472-bb65-3c1bb2957fb6",
   "metadata": {},
   "outputs": [],
   "source": [
    "# Add density\n",
    "# color_values['density'] = c.topography_metric( metric='density' )"
   ]
  },
  {
   "cell_type": "code",
   "execution_count": null,
   "id": "fe3ead6d-38b6-47d9-8a64-a1ddfe060d98",
   "metadata": {},
   "outputs": [],
   "source": [
    "# Add citations/year\n",
    "# citations_per_year = np.array([ a[_].citations_per_year() for _ in c.publications ])\n",
    "# color_values['citations_per_year'] = citations_per_year"
   ]
  },
  {
   "cell_type": "code",
   "execution_count": null,
   "id": "fbf2edf8-c1f8-4898-93a4-299883c18a44",
   "metadata": {},
   "outputs": [],
   "source": [
    "vlim = [ 0., 0.4 ]"
   ]
  },
  {
   "cell_type": "markdown",
   "id": "e825ce6b-b977-4c25-a1b5-ac92aa87407b",
   "metadata": {},
   "source": [
    "## Plotting"
   ]
  },
  {
   "cell_type": "markdown",
   "id": "7c780c06-9099-4d2d-9920-0430e1723e1c",
   "metadata": {},
   "source": [
    "### Overall View"
   ]
  },
  {
   "cell_type": "markdown",
   "id": "50b51a47-fe9f-42d9-97bd-4234207cf649",
   "metadata": {},
   "source": [
    "#### Total"
   ]
  },
  {
   "cell_type": "code",
   "execution_count": null,
   "id": "d6456254-5551-45c4-8554-df6d068279f4",
   "metadata": {},
   "outputs": [],
   "source": [
    "fig = plt.figure()\n",
    "ax = plt.gca()\n",
    "\n",
    "ax, (coords0, inds0, pairs0) = c.plot_map(\n",
    "    pm['citation_key'],\n",
    "    coords = coords,\n",
    "    ax = ax,\n",
    "    cmap = 'viridis',\n",
    "    scatter = False,\n",
    "    histogram = True,\n",
    ")"
   ]
  },
  {
   "cell_type": "markdown",
   "id": "28a5ca13-7cd7-402c-a90a-f0ee64389a01",
   "metadata": {},
   "source": [
    "#### Colored"
   ]
  },
  {
   "cell_type": "code",
   "execution_count": null,
   "id": "8e6bbe88-41d0-4235-8ab7-41199b9ca667",
   "metadata": {},
   "outputs": [],
   "source": [
    "for key in topics_and_center:\n",
    "    \n",
    "    fig = plt.figure()\n",
    "    ax = plt.gca()\n",
    "\n",
    "    ax, (coords0, inds0, pairs0) = c.plot_map(\n",
    "        pm['citation_key'],\n",
    "        coords = coords,\n",
    "        ax = ax,\n",
    "        colors = color_values[key],\n",
    "        xlim = [ -3, 3 ],\n",
    "        ylim = [ -3, 3 ],\n",
    "        vlim = vlim,\n",
    "        scatter = False,\n",
    "        histogram = True,\n",
    "    )\n",
    "    \n",
    "    \n",
    "    ax.annotate(\n",
    "        text = key,\n",
    "        xy = ( 0, 1 ),\n",
    "        xycoords = 'axes fraction',\n",
    "        xytext = ( 5, 5 ),\n",
    "        textcoords = 'offset points',\n",
    "        va = 'bottom',\n",
    "        ha = 'left',\n",
    "    )"
   ]
  },
  {
   "cell_type": "markdown",
   "id": "284200f2-daa7-45b2-9795-4dd80e2b1786",
   "metadata": {},
   "source": [
    "### Zoomed"
   ]
  },
  {
   "cell_type": "code",
   "execution_count": null,
   "id": "998ea018-88c7-4cf7-8e09-d7da8521de8d",
   "metadata": {},
   "outputs": [],
   "source": [
    "colors_key = 'Hafen2022b'\n",
    "colors_used = color_values[colors_key]"
   ]
  },
  {
   "cell_type": "code",
   "execution_count": null,
   "id": "c304bbc7-f52f-4f55-beda-f7ed165561fb",
   "metadata": {},
   "outputs": [],
   "source": [
    "import re\n",
    "def labels_formatter( i, m_i, c ):\n",
    "    key = c.publications[i]\n",
    "    key_split = re.findall( r'[^\\W\\d_]+|\\d+', key )\n",
    "    if '.' in key:\n",
    "        return '{}'.format( m_i )\n",
    "    else:\n",
    "        if len( key_split ) > 1:\n",
    "            if not key_split[-1].isalpha():\n",
    "                year = key_split[-1][2:]\n",
    "            else:\n",
    "                year = key_split[-2][2:]\n",
    "        else:\n",
    "            year = ''\n",
    "        label = '{}: {}{}'.format( m_i, key[:3], year )\n",
    "        return label"
   ]
  },
  {
   "cell_type": "code",
   "execution_count": null,
   "id": "b22d563b-5ad4-4f9a-a0d6-7f4c70c5f5eb",
   "metadata": {},
   "outputs": [],
   "source": [
    "hatching = []\n",
    "for key in c.publications:\n",
    "    if key in notes['addressed']:\n",
    "        hatching.append( '//' )\n",
    "    elif key in notes['to read']:\n",
    "        hatching.append( '*' )\n",
    "    else:\n",
    "        hatching.append( None )\n",
    "hatching = np.array( hatching )"
   ]
  },
  {
   "cell_type": "code",
   "execution_count": null,
   "id": "f35ad533-99dd-4011-a5f4-a4c6f10f7676",
   "metadata": {},
   "outputs": [],
   "source": [
    "fig = plt.figure()\n",
    "ax = plt.gca()\n",
    "\n",
    "ax, _ = c.plot_map(\n",
    "    center_key,\n",
    "    coords = coords,\n",
    "    inds = inds,\n",
    "    pairs = pairs,\n",
    "    colors = colors_used,\n",
    "    hatching = hatching,\n",
    "    ax = ax,\n",
    "    xlim = [ -0.05, 0.05 ],\n",
    "    ylim = [ -0.05, 0.05 ],\n",
    "    vlim = vlim,\n",
    "    voronoi = True,\n",
    "    labels = True,\n",
    "    labels_formatter = labels_formatter,\n",
    "    labels_kwargs = { 'fontsize': 6 },\n",
    ")\n",
    "\n",
    "ax.annotate(\n",
    "    text = colors_key,\n",
    "    xy = ( 0, 1 ),\n",
    "    xycoords = 'axes fraction',\n",
    "    xytext = ( 5, 5 ),\n",
    "    textcoords = 'offset points',\n",
    "    va = 'bottom',\n",
    "    ha = 'left',\n",
    ")\n",
    "ax.grid( visible=True, color='0.4' )"
   ]
  },
  {
   "cell_type": "code",
   "execution_count": null,
   "id": "7e51958f-9f0b-4164-8242-74a15856f318",
   "metadata": {},
   "outputs": [],
   "source": [
    "m_i = 12\n",
    "i = inds[m_i]\n",
    "key = c.publications[i]\n",
    "print( a.data[key].citation )\n",
    "print( a.data[key].abstract_str() )"
   ]
  },
  {
   "cell_type": "code",
   "execution_count": null,
   "id": "aa315f7e-a4cc-43ec-a52b-be8eb00029ec",
   "metadata": {},
   "outputs": [],
   "source": [
    "key = 'Hummels2013'\n",
    "i = inds_series.loc[key]\n",
    "print( '{}: ( {:.3g}, {:.3g})'.format( np.argsort( inds )[i], coords[i][0], coords[i][1] ) )\n",
    "print( a.data[key].citation )\n",
    "print( a.data[key].abstract_str() )"
   ]
  },
  {
   "cell_type": "markdown",
   "id": "de24ad55-0e3a-42d1-9b94-fa547fa484b5",
   "metadata": {},
   "source": [
    "# Save Progress"
   ]
  },
  {
   "cell_type": "code",
   "execution_count": null,
   "id": "64f98274-7925-4200-8d09-78bab66aff5f",
   "metadata": {},
   "outputs": [],
   "source": [
    "notes['addressed'].append( key )"
   ]
  },
  {
   "cell_type": "code",
   "execution_count": null,
   "id": "a0e22124-b8b6-453e-83c1-4df64abaea3a",
   "metadata": {},
   "outputs": [],
   "source": [
    "notes['addressed'].append( 'Lacki2010' )"
   ]
  },
  {
   "cell_type": "code",
   "execution_count": null,
   "id": "41d12e60-3743-4216-be6b-7cb0768c7f8d",
   "metadata": {},
   "outputs": [],
   "source": [
    "notes['to read']"
   ]
  },
  {
   "cell_type": "code",
   "execution_count": null,
   "id": "a5763f56-f902-4354-9f2f-62e06af97622",
   "metadata": {},
   "outputs": [],
   "source": [
    "notes.to_json( notes_fp )"
   ]
  },
  {
   "cell_type": "code",
   "execution_count": null,
   "id": "168e51b0-47ca-417a-bf4d-b15388261495",
   "metadata": {},
   "outputs": [],
   "source": []
  }
 ],
 "metadata": {
  "kernelspec": {
   "display_name": "Python 3 (ipykernel)",
   "language": "python",
   "name": "python3"
  },
  "language_info": {
   "codemirror_mode": {
    "name": "ipython",
    "version": 3
   },
   "file_extension": ".py",
   "mimetype": "text/x-python",
   "name": "python",
   "nbconvert_exporter": "python",
   "pygments_lexer": "ipython3",
   "version": "3.9.12"
  }
 },
 "nbformat": 4,
 "nbformat_minor": 5
}
