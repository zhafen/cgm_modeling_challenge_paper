{
 "cells": [
  {
   "cell_type": "code",
   "execution_count": null,
   "id": "7d6727b6-2305-4680-b0af-502a6785f392",
   "metadata": {},
   "outputs": [],
   "source": [
    "import ast\n",
    "import copy\n",
    "import numpy as np\n",
    "import os"
   ]
  },
  {
   "cell_type": "code",
   "execution_count": null,
   "id": "8164e154-7e05-4f14-a3e4-97196f0896b3",
   "metadata": {},
   "outputs": [],
   "source": [
    "import cc.atlas as atlas\n",
    "import cc.cartography as cartography\n",
    "import cc.publication as publication\n",
    "import cc.utils as utils\n",
    "import cc.tex as tex"
   ]
  },
  {
   "cell_type": "code",
   "execution_count": null,
   "id": "e4a7a811-60c6-4cb3-ae42-5ca234ff818b",
   "metadata": {},
   "outputs": [],
   "source": [
    "import trove"
   ]
  },
  {
   "cell_type": "markdown",
   "id": "ea554b41-e650-44c5-810d-abc2fd666cfa",
   "metadata": {},
   "source": [
    "# Parameters"
   ]
  },
  {
   "cell_type": "code",
   "execution_count": null,
   "id": "bac5e07d-7a2f-4de9-925b-3df8f2a6a6d6",
   "metadata": {},
   "outputs": [],
   "source": [
    "config_fp = '/Users/zhafen/paper_repos/cgm_modeling_challenge_paper/literature_review/literature_review.trove'\n",
    "cp = trove.config_parser.ConfigParser( config_fp )\n",
    "pm = trove.link_params_to_config(\n",
    "    config_fp,\n",
    ")"
   ]
  },
  {
   "cell_type": "code",
   "execution_count": null,
   "id": "1f173ae5-afec-4e2d-9c0c-f9abed4d84ba",
   "metadata": {},
   "outputs": [],
   "source": [
    "atlas_dir = pm['root_data_dir']"
   ]
  },
  {
   "cell_type": "code",
   "execution_count": null,
   "id": "576e7d94-11c0-47e5-b3e4-8d74849e447b",
   "metadata": {},
   "outputs": [],
   "source": [
    "topics = {}\n",
    "search_strs = {}\n",
    "for variation in cp.variations:\n",
    "    topics[variation] = ast.literal_eval( cp.get( variation, 'publications' ) )\n",
    "    try:\n",
    "        search_strs[variation] = ast.literal_eval( cp.get( variation, 'search_str' ) )\n",
    "    except:\n",
    "        continue"
   ]
  },
  {
   "cell_type": "markdown",
   "id": "70b8426b-3ca7-49d5-b759-463be0ca4721",
   "metadata": {},
   "source": [
    "## Load"
   ]
  },
  {
   "cell_type": "markdown",
   "id": "3d1fb778-89fa-42f3-a935-8c66e55e70ab",
   "metadata": {
    "tags": []
   },
   "source": [
    "### Large Atlas"
   ]
  },
  {
   "cell_type": "code",
   "execution_count": null,
   "id": "3f169083-0fd4-4c92-9469-12b54013880b",
   "metadata": {},
   "outputs": [],
   "source": [
    "# Larger atlas\n",
    "a = atlas.Atlas( atlas_dir, load_bibtex=False, )"
   ]
  },
  {
   "cell_type": "code",
   "execution_count": null,
   "id": "c0d5e229-9711-4732-ae80-8b327252cb3b",
   "metadata": {},
   "outputs": [],
   "source": [
    "# Vectorization\n",
    "vp_dict = a.vectorize( overwrite=True )\n",
    "c = cartography.Cartographer( **vp_dict )"
   ]
  },
  {
   "cell_type": "markdown",
   "id": "d8bfeb3d-5e21-4fd7-b10d-af2803a17e3a",
   "metadata": {},
   "source": [
    "# Search"
   ]
  },
  {
   "cell_type": "code",
   "execution_count": null,
   "id": "183b4c5a-2004-4c40-8c95-37e60d588ad5",
   "metadata": {
    "tags": []
   },
   "outputs": [],
   "source": [
    "print( 'Expanding for topics...' )\n",
    "for i in range( 3 ):\n",
    "    print( '\\n================================================================\\nIteration {}'.format( i ) )\n",
    "    broken = []\n",
    "    for topic, pubs_i in topics.items():\n",
    "        print( '\\n================================================================\\n{}'.format( topic ) )\n",
    "        for p_i in pubs_i:\n",
    "            try:\n",
    "                a = c.expand( a, center=p_i, n_sources_max=pm['kernel_size'] )\n",
    "                a.process_abstracts()\n",
    "            except ( ValueError, AssertionError ) as e:\n",
    "                if isinstance( e, ValueError ):\n",
    "                    broken.append( p_i )\n",
    "\n",
    "        if topic in search_strs:\n",
    "\n",
    "            # Search string\n",
    "            print( 'Searching for {}'.format( search_strs[topic] ) )\n",
    "            p = publication.UnofficialPublication( topic )\n",
    "            p.process_abstract( abstract_str=search_strs[topic] )\n",
    "            a.data[topic] = p\n",
    "\n",
    "        vp_dict = a.vectorize( overwrite=True, projection_fp='pass' )\n",
    "        c = cartography.Cartographer( **vp_dict )\n",
    "        try:\n",
    "            a = c.expand( a, center=p_i, n_sources_max=pm['kernel_size'] )\n",
    "            a.process_abstracts()\n",
    "        except ( ValueError, AssertionError ) as e:\n",
    "            print( 'Search complete for search_str' )"
   ]
  },
  {
   "cell_type": "code",
   "execution_count": null,
   "id": "3eb82142-e05a-4b50-90fb-4f1dc676d3c5",
   "metadata": {
    "tags": []
   },
   "outputs": [],
   "source": [
    "a.save_data()"
   ]
  },
  {
   "cell_type": "code",
   "execution_count": null,
   "id": "c382b5d7-ca2e-459a-b7b4-1ccc1f9c43c7",
   "metadata": {},
   "outputs": [],
   "source": []
  }
 ],
 "metadata": {
  "kernelspec": {
   "display_name": "Python 3 (ipykernel)",
   "language": "python",
   "name": "python3"
  },
  "language_info": {
   "codemirror_mode": {
    "name": "ipython",
    "version": 3
   },
   "file_extension": ".py",
   "mimetype": "text/x-python",
   "name": "python",
   "nbconvert_exporter": "python",
   "pygments_lexer": "ipython3",
   "version": "3.9.12"
  }
 },
 "nbformat": 4,
 "nbformat_minor": 5
}
