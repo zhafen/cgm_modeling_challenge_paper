{
 "cells": [
  {
   "cell_type": "code",
   "execution_count": 1,
   "id": "c87a2ed2-b1dd-42f6-b022-90232e7ea99a",
   "metadata": {},
   "outputs": [],
   "source": [
    "import ast\n",
    "import copy\n",
    "import numpy as np\n",
    "import os"
   ]
  },
  {
   "cell_type": "code",
   "execution_count": 2,
   "id": "4cc4e4bf-12b3-42d8-8141-260b299ba52f",
   "metadata": {},
   "outputs": [],
   "source": [
    "import cc.atlas as atlas\n",
    "import cc.cartography as cartography\n",
    "import cc.publication as publication\n",
    "import cc.utils as utils\n",
    "import cc.tex as tex"
   ]
  },
  {
   "cell_type": "code",
   "execution_count": 3,
   "id": "361ad48a-6067-4a67-b20c-d432aecb1a91",
   "metadata": {},
   "outputs": [],
   "source": [
    "import trove"
   ]
  },
  {
   "cell_type": "markdown",
   "id": "051ed8df-f44b-4642-b186-52e3d03fb0b3",
   "metadata": {
    "tags": []
   },
   "source": [
    "# Literature Review\n",
    "\n",
    "This notebook contains a record of how I performed the literature review for this work."
   ]
  },
  {
   "cell_type": "markdown",
   "id": "19877843-1b6e-407c-9922-362b5f81fc7b",
   "metadata": {},
   "source": [
    "# Parameters"
   ]
  },
  {
   "cell_type": "code",
   "execution_count": 4,
   "id": "9683d72b-18f2-46d7-b698-ec139ecfb2e2",
   "metadata": {},
   "outputs": [],
   "source": [
    "config_fp = '/Users/zhafen/paper_repos/cgm_modeling_challenge_paper/literature_review/literature_review.trove'\n",
    "cp = trove.config_parser.ConfigParser( config_fp )\n",
    "pm = trove.link_params_to_config(\n",
    "    config_fp,\n",
    "    variation = 'multicloud_modeling',\n",
    ")"
   ]
  },
  {
   "cell_type": "code",
   "execution_count": 5,
   "id": "54a28bd6-1ced-4c50-afe1-569f249f4025",
   "metadata": {},
   "outputs": [],
   "source": [
    "atlas_dir = pm['root_data_dir']"
   ]
  },
  {
   "cell_type": "code",
   "execution_count": 6,
   "id": "86c204b1-9590-45db-9f5d-d6039cfd26b0",
   "metadata": {},
   "outputs": [],
   "source": [
    "topics = {}\n",
    "for variation in cp.variations:\n",
    "    topics[variation] = ast.literal_eval( cp.get( variation, 'publications' ) )"
   ]
  },
  {
   "cell_type": "markdown",
   "id": "9a7b32f8-cd0f-42cc-8843-5f5cc1ec270a",
   "metadata": {},
   "source": [
    "# Setup"
   ]
  },
  {
   "cell_type": "markdown",
   "id": "8a551297-7c1a-4f9a-8d1e-db6807fbec6c",
   "metadata": {
    "tags": []
   },
   "source": [
    "# Extensive Survey\n",
    "Get all papers that might be of relevance.\n",
    "We'll later identify the subset that are of more interest."
   ]
  },
  {
   "cell_type": "markdown",
   "id": "46f60bd2-7b25-4714-bca1-64775635a212",
   "metadata": {
    "tags": []
   },
   "source": [
    "## Base Library\n",
    "My existing library of papers."
   ]
  },
  {
   "cell_type": "code",
   "execution_count": 7,
   "id": "aec5d34f-62c6-4cb7-91d9-1819de88494d",
   "metadata": {},
   "outputs": [
    {
     "name": "stdout",
     "output_type": "stream",
     "text": [
      "Loading saved atlas data.\n"
     ]
    },
    {
     "name": "stderr",
     "output_type": "stream",
     "text": [
      "0it [00:00, ?it/s]\n",
      "100%|██████████████████████████████████████████████████████████████████████████████████████████████████████████████████████████████████████████████████████████████████████████████| 2395/2395 [00:00<00:00, 17028.20it/s]\n"
     ]
    }
   ],
   "source": [
    "a_zotero = atlas.Atlas( atlas_dir, data_fp=pm['zotero_atlas_fp'], load_bibtex=False, )"
   ]
  },
  {
   "cell_type": "code",
   "execution_count": null,
   "id": "8b6e20f5-dac1-4277-b881-5366e261ab20",
   "metadata": {
    "tags": []
   },
   "outputs": [],
   "source": [
    "a_zotero.import_bibtex( pm['zotero_bibtex_fp'] )"
   ]
  },
  {
   "cell_type": "code",
   "execution_count": null,
   "id": "d4edaafb-d5f1-4c1c-8c3b-4c3c20ee9994",
   "metadata": {
    "tags": []
   },
   "outputs": [],
   "source": [
    "a_zotero.process_abstracts( identifier='from_citation' )"
   ]
  },
  {
   "cell_type": "code",
   "execution_count": null,
   "id": "06a331a5-a64c-4807-b943-c62c063f2ab7",
   "metadata": {},
   "outputs": [],
   "source": [
    "a_zotero.save_data( fp=pm['zotero_atlas_fp'] )"
   ]
  },
  {
   "cell_type": "code",
   "execution_count": 8,
   "id": "0e76252e-a98a-48e7-845e-eb7a75df104a",
   "metadata": {},
   "outputs": [
    {
     "name": "stdout",
     "output_type": "stream",
     "text": [
      "Vectorizing text...\n",
      "    Retrieving publication data...\n"
     ]
    },
    {
     "name": "stderr",
     "output_type": "stream",
     "text": [
      "100%|█████████████████████████████████████████████████████████████████████████████████████████████████████████████████████████████████████████████████████████████████████████████| 2395/2395 [00:00<00:00, 308641.60it/s]\n"
     ]
    },
    {
     "name": "stdout",
     "output_type": "stream",
     "text": [
      "    Calculating vectorization...\n"
     ]
    },
    {
     "name": "stderr",
     "output_type": "stream",
     "text": [
      "/Users/zhafen/miniconda3/envs/general_use/lib/python3.9/site-packages/sklearn/utils/deprecation.py:87: FutureWarning: Function get_feature_names is deprecated; get_feature_names is deprecated in 1.0 and will be removed in 1.2. Please use get_feature_names_out instead.\n",
      "  warnings.warn(msg, category=FutureWarning)\n",
      "100%|███████████████████████████████████████████████████████████████████████████████████████████████████████████████████████████████████████████████████████████████████████████████████████| 6/6 [00:00<00:00, 43.01it/s]\n"
     ]
    }
   ],
   "source": [
    "# Vectorize\n",
    "vp_dict = a_zotero.vectorize( projection_fp=pm['zotero_projection_fp'], overwrite=True )\n",
    "c_zotero = cartography.Cartographer( **vp_dict )"
   ]
  },
  {
   "cell_type": "markdown",
   "id": "2a099b0a-55b4-427e-b251-178b86dde4ed",
   "metadata": {
    "tags": []
   },
   "source": [
    "## Search Centered on Abstract\n",
    "Perform a search centered on the abstract of the paper we are writing."
   ]
  },
  {
   "cell_type": "code",
   "execution_count": 9,
   "id": "9fe1246f-ef56-4d89-b98a-3b465da41a79",
   "metadata": {},
   "outputs": [],
   "source": [
    "pub_doc = tex.Tex( filepath=pm['tex_fp'] )"
   ]
  },
  {
   "cell_type": "code",
   "execution_count": 10,
   "id": "de767821-025d-475f-bba2-250d7f02e732",
   "metadata": {},
   "outputs": [],
   "source": [
    "abstract = pub_doc.string.split( '\\\\begin{abstract}' )[1].split( '\\\\end{abstract}' )[0]"
   ]
  },
  {
   "cell_type": "code",
   "execution_count": 11,
   "id": "6c0cb749-e29c-4a49-996c-f2ba89d789d8",
   "metadata": {},
   "outputs": [
    {
     "name": "stdout",
     "output_type": "stream",
     "text": [
      "\n",
      "In the Halo21 circumgalactic medium (CGM) modeling challenge we presented observational absorption-system experts with three blinded sets of synthetic observations and asked them to derive the properties of the associated gas.\n",
      "Our results reveal that common assumptions about ionization equilibrium and cloud structure can lead to $\\gtrsim 1$ dex errors in estimated metallicity, temperature, or density.\n",
      "The three data samples were generated and analyzed iteratively with increasing complexity.\n",
      "\\texttt{sample0} was ion column densities of uniform clouds, and revealed that constraining models to either collisional or photo-ionization equilibrium results in best estimates of metallicity being off by up to $\\sim 1$ dex.\n",
      "\\texttt{sample1} was mock absorption spectra of multi-cloud systems, and demonstrated that the observational modeling of individual clouds could straightforwardly be expanded to absorption systems produced by one to three clouds.\n",
      "\\texttt{sample2} was spectra of a high-resolution simulation of a gas filament and associated turbulent mixing zones, and showed that despite multi-cloud modeling working well for a small number of clouds, a distribution of many clouds could lead to simulated property distributions poorly fit by observational modeling.\n",
      "Based on our analysis we present a list of recommendations for scientists intending to produce realistic synthetic data.\n",
      "\n"
     ]
    }
   ],
   "source": [
    "print( abstract )"
   ]
  },
  {
   "cell_type": "markdown",
   "id": "ca62e6af-09db-4bc5-b6ca-9fe202905a00",
   "metadata": {
    "tags": []
   },
   "source": [
    "### Add Abstract to Atlas"
   ]
  },
  {
   "cell_type": "code",
   "execution_count": 12,
   "id": "aee53984-bd99-4ce4-8cf8-8939ad0f9607",
   "metadata": {},
   "outputs": [],
   "source": [
    "p = publication.UnofficialPublication( pm['citation_key'] )"
   ]
  },
  {
   "cell_type": "code",
   "execution_count": 14,
   "id": "10a1fe52-b558-49a8-8979-be5809e5e660",
   "metadata": {},
   "outputs": [],
   "source": [
    "p.process_abstract( abstract_str = abstract )"
   ]
  },
  {
   "cell_type": "code",
   "execution_count": 15,
   "id": "170721c2-60fb-42ea-884b-8b28831f165f",
   "metadata": {},
   "outputs": [],
   "source": [
    "a_zotero.data[p.citation_key] = copy.deepcopy( p )"
   ]
  },
  {
   "cell_type": "code",
   "execution_count": 16,
   "id": "669ea482-02d7-492b-ad07-2deac6d97a9d",
   "metadata": {},
   "outputs": [
    {
     "name": "stdout",
     "output_type": "stream",
     "text": [
      "Vectorizing text...\n",
      "    Retrieving publication data...\n"
     ]
    },
    {
     "name": "stderr",
     "output_type": "stream",
     "text": [
      "  0%|                                                                                                                                                                                            | 0/2396 [00:00<?, ?it/s]/Users/zhafen/repos/cc/cc/publication.py:800: UserWarning: Hafen2022b is unofficial and has no publication date.\n",
      "  warnings.warn( warning_msg )\n",
      "100%|██████████████████████████████████████████████████████████████████████████████████████████████████████████████████████████████████████████████████████████████████████████████| 2396/2396 [00:00<00:00, 65723.30it/s]"
     ]
    },
    {
     "name": "stdout",
     "output_type": "stream",
     "text": [
      "    Calculating vectorization...\n"
     ]
    },
    {
     "name": "stderr",
     "output_type": "stream",
     "text": [
      "\n",
      "/Users/zhafen/miniconda3/envs/general_use/lib/python3.9/site-packages/sklearn/utils/deprecation.py:87: FutureWarning: Function get_feature_names is deprecated; get_feature_names is deprecated in 1.0 and will be removed in 1.2. Please use get_feature_names_out instead.\n",
      "  warnings.warn(msg, category=FutureWarning)\n",
      "100%|███████████████████████████████████████████████████████████████████████████████████████████████████████████████████████████████████████████████████████████████████████████████████████| 6/6 [00:00<00:00, 60.63it/s]\n"
     ]
    }
   ],
   "source": [
    "# Vectorize\n",
    "vp_dict = a_zotero.vectorize( projection_fp=pm['zotero_projection_fp'], overwrite=True )\n",
    "c_zotero = cartography.Cartographer( **vp_dict )"
   ]
  },
  {
   "cell_type": "markdown",
   "id": "c4bad26a-d702-4768-85d1-d4a5d1c27554",
   "metadata": {
    "tags": []
   },
   "source": [
    "### Perform the Search"
   ]
  },
  {
   "cell_type": "markdown",
   "id": "44cc822a-2bfd-4c8f-ac32-c1391edff4ae",
   "metadata": {
    "tags": []
   },
   "source": [
    "#### First Search"
   ]
  },
  {
   "cell_type": "code",
   "execution_count": 17,
   "id": "9a1205c1-aaca-4263-9a2f-47b34197304f",
   "metadata": {
    "tags": []
   },
   "outputs": [
    {
     "name": "stdout",
     "output_type": "stream",
     "text": [
      "Expansion will include 3620 new publications.\n",
      "Loading bibliography entries.\n",
      "Storing bibliography entries.\n"
     ]
    },
    {
     "name": "stderr",
     "output_type": "stream",
     "text": [
      "100%|███████████████████████████████████████████████████████████████████████████████████████████████████████████████████████████████████████████████████████████████████████████████| 3620/3620 [00:00<00:00, 7460.21it/s]\n"
     ]
    }
   ],
   "source": [
    "a = c_zotero.expand( a_zotero, center=p.citation_key )"
   ]
  },
  {
   "cell_type": "code",
   "execution_count": 18,
   "id": "a69cdfd0-3a9b-451d-b60e-0c606b6a6179",
   "metadata": {
    "tags": []
   },
   "outputs": [
    {
     "name": "stdout",
     "output_type": "stream",
     "text": [
      "    Making 42 ADS calls...\n"
     ]
    },
    {
     "name": "stderr",
     "output_type": "stream",
     "text": [
      " 98%|████████████████████████████████████████████████████████████████████████████████████████████████████████████████████████████████████████████████████████████████████████████████▋    | 41/42 [01:56<00:03,  3.10s/it]/Users/zhafen/repos/cc/cc/atlas.py:998: UserWarning: No publications found for Anderson2016. Skipping.\n",
      "  warnings.warn(\n",
      "/Users/zhafen/repos/cc/cc/atlas.py:998: UserWarning: No publications found for Azoulay2011. Skipping.\n",
      "  warnings.warn(\n",
      "/Users/zhafen/repos/cc/cc/atlas.py:998: UserWarning: No publications found for CANaturalResourcesAgency. Skipping.\n",
      "  warnings.warn(\n",
      "/Users/zhafen/repos/cc/cc/atlas.py:998: UserWarning: No publications found for Cen2001. Skipping.\n",
      "  warnings.warn(\n",
      "/Users/zhafen/repos/cc/cc/atlas.py:998: UserWarning: No publications found for Chan2017. Skipping.\n",
      "  warnings.warn(\n",
      "/Users/zhafen/repos/cc/cc/atlas.py:998: UserWarning: No publications found for Chawla2021. Skipping.\n",
      "  warnings.warn(\n",
      "/Users/zhafen/repos/cc/cc/atlas.py:998: UserWarning: No publications found for Cluley2012. Skipping.\n",
      "  warnings.warn(\n",
      "/Users/zhafen/repos/cc/cc/atlas.py:998: UserWarning: No publications found for Coelho2017. Skipping.\n",
      "  warnings.warn(\n",
      "/Users/zhafen/repos/cc/cc/atlas.py:998: UserWarning: No publications found for Collins2021. Skipping.\n",
      "  warnings.warn(\n",
      "/Users/zhafen/repos/cc/cc/atlas.py:998: UserWarning: No publications found for DeSollaPrice1989. Skipping.\n",
      "  warnings.warn(\n",
      "/Users/zhafen/repos/cc/cc/atlas.py:998: UserWarning: No publications found for Deterding2011. Skipping.\n",
      "  warnings.warn(\n",
      "/Users/zhafen/repos/cc/cc/atlas.py:998: UserWarning: No publications found for Draine2011. Skipping.\n",
      "  warnings.warn(\n",
      "/Users/zhafen/repos/cc/cc/atlas.py:998: UserWarning: No publications found for Ekman2016. Skipping.\n",
      "  warnings.warn(\n",
      "/Users/zhafen/repos/cc/cc/atlas.py:998: UserWarning: No publications found for Etemadpour2016. Skipping.\n",
      "  warnings.warn(\n",
      "/Users/zhafen/repos/cc/cc/atlas.py:998: UserWarning: No publications found for Falk-Krzesinski2011. Skipping.\n",
      "  warnings.warn(\n",
      "/Users/zhafen/repos/cc/cc/atlas.py:998: UserWarning: No publications found for Feige2011. Skipping.\n",
      "  warnings.warn(\n",
      "/Users/zhafen/repos/cc/cc/atlas.py:998: UserWarning: No publications found for Fiore2008. Skipping.\n",
      "  warnings.warn(\n",
      "/Users/zhafen/repos/cc/cc/atlas.py:998: UserWarning: No publications found for Fleming2001. Skipping.\n",
      "  warnings.warn(\n",
      "/Users/zhafen/repos/cc/cc/atlas.py:998: UserWarning: No publications found for Fortunato2018. Skipping.\n",
      "  warnings.warn(\n",
      "/Users/zhafen/repos/cc/cc/atlas.py:998: UserWarning: No publications found for Franconeri2021a. Skipping.\n",
      "  warnings.warn(\n",
      "/Users/zhafen/repos/cc/cc/atlas.py:998: UserWarning: No publications found for Gunn1972. Skipping.\n",
      "  warnings.warn(\n",
      "/Users/zhafen/repos/cc/cc/atlas.py:998: UserWarning: No publications found for Hamari2014. Skipping.\n",
      "  warnings.warn(\n",
      "/Users/zhafen/repos/cc/cc/atlas.py:998: UserWarning: No publications found for Hanes1940. Skipping.\n",
      "  warnings.warn(\n",
      "/Users/zhafen/repos/cc/cc/atlas.py:998: UserWarning: No publications found for HarmsworthAssociates2010. Skipping.\n",
      "  warnings.warn(\n",
      "/Users/zhafen/repos/cc/cc/atlas.py:998: UserWarning: No publications found for Harrus. Skipping.\n",
      "  warnings.warn(\n",
      "/Users/zhafen/repos/cc/cc/atlas.py:998: UserWarning: No publications found for Hartigan1985. Skipping.\n",
      "  warnings.warn(\n",
      "/Users/zhafen/repos/cc/cc/atlas.py:998: UserWarning: No publications found for Haven2021. Skipping.\n",
      "  warnings.warn(\n",
      "/Users/zhafen/repos/cc/cc/atlas.py:998: UserWarning: No publications found for Henderson1990. Skipping.\n",
      "  warnings.warn(\n",
      "/Users/zhafen/repos/cc/cc/atlas.py:998: UserWarning: No publications found for JONES2009. Skipping.\n",
      "  warnings.warn(\n",
      "/Users/zhafen/repos/cc/cc/atlas.py:998: UserWarning: No publications found for Kaplan1958. Skipping.\n",
      "  warnings.warn(\n",
      "/Users/zhafen/repos/cc/cc/atlas.py:998: UserWarning: No publications found for Kepler2016. Skipping.\n",
      "  warnings.warn(\n",
      "/Users/zhafen/repos/cc/cc/atlas.py:998: UserWarning: No publications found for Kimm2011b. Skipping.\n",
      "  warnings.warn(\n",
      "/Users/zhafen/repos/cc/cc/atlas.py:998: UserWarning: No publications found for Kitcher1990. Skipping.\n",
      "  warnings.warn(\n",
      "/Users/zhafen/repos/cc/cc/atlas.py:998: UserWarning: No publications found for Klein2003. Skipping.\n",
      "  warnings.warn(\n",
      "/Users/zhafen/repos/cc/cc/atlas.py:998: UserWarning: No publications found for Kluyver2016. Skipping.\n",
      "  warnings.warn(\n",
      "/Users/zhafen/repos/cc/cc/atlas.py:998: UserWarning: No publications found for Lam2015. Skipping.\n",
      "  warnings.warn(\n",
      "/Users/zhafen/repos/cc/cc/atlas.py:998: UserWarning: No publications found for Lanson2008. Skipping.\n",
      "  warnings.warn(\n",
      "/Users/zhafen/repos/cc/cc/atlas.py:998: UserWarning: No publications found for Lim2020a. Skipping.\n",
      "  warnings.warn(\n",
      "/Users/zhafen/repos/cc/cc/atlas.py:998: UserWarning: No publications found for Linde2015. Skipping.\n",
      "  warnings.warn(\n",
      "/Users/zhafen/repos/cc/cc/atlas.py:998: UserWarning: No publications found for Liu2013. Skipping.\n",
      "  warnings.warn(\n",
      "/Users/zhafen/repos/cc/cc/atlas.py:998: UserWarning: No publications found for McKinney2010. Skipping.\n",
      "  warnings.warn(\n",
      "/Users/zhafen/repos/cc/cc/atlas.py:998: UserWarning: No publications found for Moors2017. Skipping.\n",
      "  warnings.warn(\n",
      "/Users/zhafen/repos/cc/cc/atlas.py:998: UserWarning: No publications found for Parker1965. Skipping.\n",
      "  warnings.warn(\n",
      "/Users/zhafen/repos/cc/cc/atlas.py:998: UserWarning: No publications found for Paulovich2008. Skipping.\n",
      "  warnings.warn(\n",
      "/Users/zhafen/repos/cc/cc/atlas.py:998: UserWarning: No publications found for Peebles1975. Skipping.\n",
      "  warnings.warn(\n",
      "/Users/zhafen/repos/cc/cc/atlas.py:998: UserWarning: No publications found for Pfeffer2021. Skipping.\n",
      "  warnings.warn(\n",
      "/Users/zhafen/repos/cc/cc/atlas.py:998: UserWarning: No publications found for Pillepich2017. Skipping.\n",
      "  warnings.warn(\n",
      "/Users/zhafen/repos/cc/cc/atlas.py:998: UserWarning: No publications found for Pirker2015. Skipping.\n",
      "  warnings.warn(\n",
      "/Users/zhafen/repos/cc/cc/atlas.py:998: UserWarning: No publications found for Price1976. Skipping.\n",
      "  warnings.warn(\n",
      "/Users/zhafen/repos/cc/cc/atlas.py:998: UserWarning: No publications found for Reiners2015. Skipping.\n",
      "  warnings.warn(\n",
      "/Users/zhafen/repos/cc/cc/atlas.py:998: UserWarning: No publications found for Rennehan2021. Skipping.\n",
      "  warnings.warn(\n",
      "/Users/zhafen/repos/cc/cc/atlas.py:998: UserWarning: No publications found for Research2004. Skipping.\n",
      "  warnings.warn(\n",
      "/Users/zhafen/repos/cc/cc/atlas.py:998: UserWarning: No publications found for Richings2020. Skipping.\n",
      "  warnings.warn(\n",
      "/Users/zhafen/repos/cc/cc/atlas.py:998: UserWarning: No publications found for Riedl2006. Skipping.\n",
      "  warnings.warn(\n",
      "/Users/zhafen/repos/cc/cc/atlas.py:998: UserWarning: No publications found for Runeson2006. Skipping.\n",
      "  warnings.warn(\n",
      "/Users/zhafen/repos/cc/cc/atlas.py:998: UserWarning: No publications found for Sanchez2020. Skipping.\n",
      "  warnings.warn(\n",
      "/Users/zhafen/repos/cc/cc/atlas.py:998: UserWarning: No publications found for Scheufele1999. Skipping.\n",
      "  warnings.warn(\n",
      "/Users/zhafen/repos/cc/cc/atlas.py:998: UserWarning: No publications found for Schilling2005. Skipping.\n",
      "  warnings.warn(\n",
      "/Users/zhafen/repos/cc/cc/atlas.py:998: UserWarning: No publications found for Schilling2011. Skipping.\n",
      "  warnings.warn(\n",
      "/Users/zhafen/repos/cc/cc/atlas.py:998: UserWarning: No publications found for Shockley1957. Skipping.\n",
      "  warnings.warn(\n",
      "/Users/zhafen/repos/cc/cc/atlas.py:998: UserWarning: No publications found for Siekmann1991. Skipping.\n",
      "  warnings.warn(\n",
      "/Users/zhafen/repos/cc/cc/atlas.py:998: UserWarning: No publications found for Sinatra2016. Skipping.\n",
      "  warnings.warn(\n",
      "/Users/zhafen/repos/cc/cc/atlas.py:998: UserWarning: No publications found for Smagorinsky1963. Skipping.\n",
      "  warnings.warn(\n",
      "/Users/zhafen/repos/cc/cc/atlas.py:998: UserWarning: No publications found for Smaldino2020. Skipping.\n",
      "  warnings.warn(\n",
      "/Users/zhafen/repos/cc/cc/atlas.py:998: UserWarning: No publications found for Small1973. Skipping.\n",
      "  warnings.warn(\n",
      "/Users/zhafen/repos/cc/cc/atlas.py:998: UserWarning: No publications found for Steegen2016. Skipping.\n",
      "  warnings.warn(\n",
      "/Users/zhafen/repos/cc/cc/atlas.py:998: UserWarning: No publications found for Stokols2008. Skipping.\n",
      "  warnings.warn(\n",
      "/Users/zhafen/repos/cc/cc/atlas.py:998: UserWarning: No publications found for Strevens2003. Skipping.\n",
      "  warnings.warn(\n",
      "/Users/zhafen/repos/cc/cc/atlas.py:998: UserWarning: No publications found for Stringer2010. Skipping.\n",
      "  warnings.warn(\n",
      "/Users/zhafen/repos/cc/cc/atlas.py:998: UserWarning: No publications found for Turnbull1976. Skipping.\n",
      "  warnings.warn(\n",
      "/Users/zhafen/repos/cc/cc/atlas.py:998: UserWarning: No publications found for Uzzi2005. Skipping.\n",
      "  warnings.warn(\n",
      "/Users/zhafen/repos/cc/cc/atlas.py:998: UserWarning: No publications found for VanDeVoort2017a. Skipping.\n",
      "  warnings.warn(\n",
      "/Users/zhafen/repos/cc/cc/atlas.py:998: UserWarning: No publications found for VanNoorden2013. Skipping.\n",
      "  warnings.warn(\n",
      "/Users/zhafen/repos/cc/cc/atlas.py:998: UserWarning: No publications found for VanNoorden2014. Skipping.\n",
      "  warnings.warn(\n",
      "/Users/zhafen/repos/cc/cc/atlas.py:998: UserWarning: No publications found for Varotsis2018. Skipping.\n",
      "  warnings.warn(\n",
      "/Users/zhafen/repos/cc/cc/atlas.py:998: UserWarning: No publications found for Vinkers2015. Skipping.\n",
      "  warnings.warn(\n",
      "/Users/zhafen/repos/cc/cc/atlas.py:998: UserWarning: No publications found for Wang2016a. Skipping.\n",
      "  warnings.warn(\n",
      "/Users/zhafen/repos/cc/cc/atlas.py:998: UserWarning: No publications found for Way2017. Skipping.\n",
      "  warnings.warn(\n",
      "/Users/zhafen/repos/cc/cc/atlas.py:998: UserWarning: No publications found for Weis2021. Skipping.\n",
      "  warnings.warn(\n",
      "/Users/zhafen/repos/cc/cc/atlas.py:998: UserWarning: No publications found for Weitzman1998. Skipping.\n",
      "  warnings.warn(\n",
      "/Users/zhafen/repos/cc/cc/atlas.py:998: UserWarning: No publications found for West2021. Skipping.\n",
      "  warnings.warn(\n",
      "/Users/zhafen/repos/cc/cc/atlas.py:998: UserWarning: No publications found for Whitcomb2013. Skipping.\n",
      "  warnings.warn(\n",
      "/Users/zhafen/repos/cc/cc/atlas.py:998: UserWarning: No publications found for Whittaker2000. Skipping.\n",
      "  warnings.warn(\n",
      "/Users/zhafen/repos/cc/cc/atlas.py:998: UserWarning: No publications found for Yarkoni2019. Skipping.\n",
      "  warnings.warn(\n",
      "/Users/zhafen/repos/cc/cc/atlas.py:998: UserWarning: No publications found for Young2020. Skipping.\n",
      "  warnings.warn(\n",
      "/Users/zhafen/repos/cc/cc/atlas.py:998: UserWarning: No publications found for Yu2021. Skipping.\n",
      "  warnings.warn(\n",
      "/Users/zhafen/repos/cc/cc/atlas.py:998: UserWarning: No publications found for Zanotti2010. Skipping.\n",
      "  warnings.warn(\n",
      "100%|█████████████████████████████████████████████████████████████████████████████████████████████████████████████████████████████████████████████████████████████████████████████████████| 42/42 [01:57<00:00,  2.81s/it]\n"
     ]
    },
    {
     "name": "stdout",
     "output_type": "stream",
     "text": [
      "    Making 0 ADS calls for publications without IDs...\n"
     ]
    },
    {
     "name": "stderr",
     "output_type": "stream",
     "text": [
      "0it [00:00, ?it/s]\n"
     ]
    },
    {
     "name": "stdout",
     "output_type": "stream",
     "text": [
      "    Doing NLP...\n"
     ]
    },
    {
     "name": "stderr",
     "output_type": "stream",
     "text": [
      "100%|█████████████████████████████████████████████████████████████████████████████████████████████████████████████████████████████████████████████████████████████████████████████████| 6016/6016 [02:37<00:00, 38.10it/s]\n"
     ]
    },
    {
     "name": "stdout",
     "output_type": "stream",
     "text": [
      "Preparing to save data.\n"
     ]
    },
    {
     "name": "stderr",
     "output_type": "stream",
     "text": [
      "100%|█████████████████████████████████████████████████████████████████████████████████████████████████████████████████████████████████████████████████████████████████████████████| 6016/6016 [00:00<00:00, 210283.20it/s]\n"
     ]
    },
    {
     "name": "stdout",
     "output_type": "stream",
     "text": [
      "Saving to /Users/zhafen/Data/cgm_modeling_challenge/literature_review/atlas_data.json\n"
     ]
    }
   ],
   "source": [
    "a.process_abstracts()\n",
    "a.save_data()"
   ]
  },
  {
   "cell_type": "markdown",
   "id": "dfec57ae-c3d6-49ef-9f62-78a8ad5d3ce0",
   "metadata": {
    "tags": []
   },
   "source": [
    "#### Second Search"
   ]
  },
  {
   "cell_type": "code",
   "execution_count": 19,
   "id": "b02d187a-96e8-4bd6-a559-bce3607bad05",
   "metadata": {},
   "outputs": [
    {
     "name": "stdout",
     "output_type": "stream",
     "text": [
      "Vectorizing text...\n",
      "    Retrieving publication data...\n"
     ]
    },
    {
     "name": "stderr",
     "output_type": "stream",
     "text": [
      "  0%|                                                                                                                                                                                            | 0/6016 [00:00<?, ?it/s]/Users/zhafen/repos/cc/cc/publication.py:800: UserWarning: Hafen2022b is unofficial and has no publication date.\n",
      "  warnings.warn( warning_msg )\n",
      "100%|█████████████████████████████████████████████████████████████████████████████████████████████████████████████████████████████████████████████████████████████████████████████| 6016/6016 [00:00<00:00, 133114.58it/s]"
     ]
    },
    {
     "name": "stdout",
     "output_type": "stream",
     "text": [
      "    Calculating vectorization...\n"
     ]
    },
    {
     "name": "stderr",
     "output_type": "stream",
     "text": [
      "\n",
      "/Users/zhafen/miniconda3/envs/general_use/lib/python3.9/site-packages/sklearn/utils/deprecation.py:87: FutureWarning: Function get_feature_names is deprecated; get_feature_names is deprecated in 1.0 and will be removed in 1.2. Please use get_feature_names_out instead.\n",
      "  warnings.warn(msg, category=FutureWarning)\n",
      "100%|███████████████████████████████████████████████████████████████████████████████████████████████████████████████████████████████████████████████████████████████████████████████████████| 6/6 [00:00<00:00, 25.99it/s]\n"
     ]
    }
   ],
   "source": [
    "# Vectorize\n",
    "vp_dict = a.vectorize( overwrite=True )\n",
    "c = cartography.Cartographer( **vp_dict )"
   ]
  },
  {
   "cell_type": "code",
   "execution_count": 20,
   "id": "f54edcc5-f2e3-4eba-8940-7f3792bb5309",
   "metadata": {
    "tags": []
   },
   "outputs": [
    {
     "name": "stdout",
     "output_type": "stream",
     "text": [
      "Expansion will include 3295 new publications.\n",
      "Loading bibliography entries.\n",
      "Storing bibliography entries.\n"
     ]
    },
    {
     "name": "stderr",
     "output_type": "stream",
     "text": [
      "100%|██████████████████████████████████████████████████████████████████████████████████████████████████████████████████████████████████████████████████████████████████████████████| 6915/6915 [00:00<00:00, 37422.42it/s]\n"
     ]
    }
   ],
   "source": [
    "a = c.expand( a, center=p.citation_key )"
   ]
  },
  {
   "cell_type": "code",
   "execution_count": 21,
   "id": "aa8767cb-0b4a-49d5-a2ed-37de05ec9e0f",
   "metadata": {},
   "outputs": [
    {
     "name": "stdout",
     "output_type": "stream",
     "text": [
      "    Making 39 ADS calls...\n"
     ]
    },
    {
     "name": "stderr",
     "output_type": "stream",
     "text": [
      " 95%|███████████████████████████████████████████████████████████████████████████████████████████████████████████████████████████████████████████████████████████████████████████▋         | 37/39 [01:30<00:04,  2.29s/it]/Users/zhafen/repos/cc/cc/atlas.py:998: UserWarning: No publications found for Anderson2016. Skipping.\n",
      "  warnings.warn(\n",
      "/Users/zhafen/repos/cc/cc/atlas.py:998: UserWarning: No publications found for Azoulay2011. Skipping.\n",
      "  warnings.warn(\n",
      "/Users/zhafen/repos/cc/cc/atlas.py:998: UserWarning: No publications found for CANaturalResourcesAgency. Skipping.\n",
      "  warnings.warn(\n",
      "/Users/zhafen/repos/cc/cc/atlas.py:998: UserWarning: No publications found for Cen2001. Skipping.\n",
      "  warnings.warn(\n",
      "/Users/zhafen/repos/cc/cc/atlas.py:998: UserWarning: No publications found for Chan2017. Skipping.\n",
      "  warnings.warn(\n",
      "/Users/zhafen/repos/cc/cc/atlas.py:998: UserWarning: No publications found for Chawla2021. Skipping.\n",
      "  warnings.warn(\n",
      "/Users/zhafen/repos/cc/cc/atlas.py:998: UserWarning: No publications found for Cluley2012. Skipping.\n",
      "  warnings.warn(\n",
      "/Users/zhafen/repos/cc/cc/atlas.py:998: UserWarning: No publications found for Coelho2017. Skipping.\n",
      "  warnings.warn(\n",
      "/Users/zhafen/repos/cc/cc/atlas.py:998: UserWarning: No publications found for Collins2021. Skipping.\n",
      "  warnings.warn(\n",
      "/Users/zhafen/repos/cc/cc/atlas.py:998: UserWarning: No publications found for DeSollaPrice1989. Skipping.\n",
      "  warnings.warn(\n",
      "/Users/zhafen/repos/cc/cc/atlas.py:998: UserWarning: No publications found for Deterding2011. Skipping.\n",
      "  warnings.warn(\n",
      "/Users/zhafen/repos/cc/cc/atlas.py:998: UserWarning: No publications found for Draine2011. Skipping.\n",
      "  warnings.warn(\n",
      "/Users/zhafen/repos/cc/cc/atlas.py:998: UserWarning: No publications found for Ekman2016. Skipping.\n",
      "  warnings.warn(\n",
      "/Users/zhafen/repos/cc/cc/atlas.py:998: UserWarning: No publications found for Etemadpour2016. Skipping.\n",
      "  warnings.warn(\n",
      "/Users/zhafen/repos/cc/cc/atlas.py:998: UserWarning: No publications found for Falk-Krzesinski2011. Skipping.\n",
      "  warnings.warn(\n",
      "/Users/zhafen/repos/cc/cc/atlas.py:998: UserWarning: No publications found for Feige2011. Skipping.\n",
      "  warnings.warn(\n",
      "/Users/zhafen/repos/cc/cc/atlas.py:998: UserWarning: No publications found for Fiore2008. Skipping.\n",
      "  warnings.warn(\n",
      "/Users/zhafen/repos/cc/cc/atlas.py:998: UserWarning: No publications found for Fleming2001. Skipping.\n",
      "  warnings.warn(\n",
      "/Users/zhafen/repos/cc/cc/atlas.py:998: UserWarning: No publications found for Fortunato2018. Skipping.\n",
      "  warnings.warn(\n",
      "/Users/zhafen/repos/cc/cc/atlas.py:998: UserWarning: No publications found for Franconeri2021a. Skipping.\n",
      "  warnings.warn(\n",
      "/Users/zhafen/repos/cc/cc/atlas.py:998: UserWarning: No publications found for Gunn1972. Skipping.\n",
      "  warnings.warn(\n",
      "/Users/zhafen/repos/cc/cc/atlas.py:998: UserWarning: No publications found for Hamari2014. Skipping.\n",
      "  warnings.warn(\n",
      "/Users/zhafen/repos/cc/cc/atlas.py:998: UserWarning: No publications found for Hanes1940. Skipping.\n",
      "  warnings.warn(\n",
      "/Users/zhafen/repos/cc/cc/atlas.py:998: UserWarning: No publications found for HarmsworthAssociates2010. Skipping.\n",
      "  warnings.warn(\n",
      "/Users/zhafen/repos/cc/cc/atlas.py:998: UserWarning: No publications found for Harrus. Skipping.\n",
      "  warnings.warn(\n",
      "/Users/zhafen/repos/cc/cc/atlas.py:998: UserWarning: No publications found for Hartigan1985. Skipping.\n",
      "  warnings.warn(\n",
      "/Users/zhafen/repos/cc/cc/atlas.py:998: UserWarning: No publications found for Haven2021. Skipping.\n",
      "  warnings.warn(\n",
      "/Users/zhafen/repos/cc/cc/atlas.py:998: UserWarning: No publications found for Henderson1990. Skipping.\n",
      "  warnings.warn(\n",
      "/Users/zhafen/repos/cc/cc/atlas.py:998: UserWarning: No publications found for JONES2009. Skipping.\n",
      "  warnings.warn(\n",
      "/Users/zhafen/repos/cc/cc/atlas.py:998: UserWarning: No publications found for Kaplan1958. Skipping.\n",
      "  warnings.warn(\n",
      "/Users/zhafen/repos/cc/cc/atlas.py:998: UserWarning: No publications found for Kepler2016. Skipping.\n",
      "  warnings.warn(\n",
      "/Users/zhafen/repos/cc/cc/atlas.py:998: UserWarning: No publications found for Kimm2011b. Skipping.\n",
      "  warnings.warn(\n",
      "/Users/zhafen/repos/cc/cc/atlas.py:998: UserWarning: No publications found for Kitcher1990. Skipping.\n",
      "  warnings.warn(\n",
      "/Users/zhafen/repos/cc/cc/atlas.py:998: UserWarning: No publications found for Klein2003. Skipping.\n",
      "  warnings.warn(\n",
      "/Users/zhafen/repos/cc/cc/atlas.py:998: UserWarning: No publications found for Kluyver2016. Skipping.\n",
      "  warnings.warn(\n",
      "/Users/zhafen/repos/cc/cc/atlas.py:998: UserWarning: No publications found for Lam2015. Skipping.\n",
      "  warnings.warn(\n",
      "/Users/zhafen/repos/cc/cc/atlas.py:998: UserWarning: No publications found for Lanson2008. Skipping.\n",
      "  warnings.warn(\n",
      "/Users/zhafen/repos/cc/cc/atlas.py:998: UserWarning: No publications found for Lim2020a. Skipping.\n",
      "  warnings.warn(\n",
      "/Users/zhafen/repos/cc/cc/atlas.py:998: UserWarning: No publications found for Linde2015. Skipping.\n",
      "  warnings.warn(\n",
      "/Users/zhafen/repos/cc/cc/atlas.py:998: UserWarning: No publications found for Liu2013. Skipping.\n",
      "  warnings.warn(\n",
      "/Users/zhafen/repos/cc/cc/atlas.py:998: UserWarning: No publications found for McKinney2010. Skipping.\n",
      "  warnings.warn(\n",
      "/Users/zhafen/repos/cc/cc/atlas.py:998: UserWarning: No publications found for Moors2017. Skipping.\n",
      "  warnings.warn(\n",
      "/Users/zhafen/repos/cc/cc/atlas.py:998: UserWarning: No publications found for Parker1965. Skipping.\n",
      "  warnings.warn(\n",
      "/Users/zhafen/repos/cc/cc/atlas.py:998: UserWarning: No publications found for Paulovich2008. Skipping.\n",
      "  warnings.warn(\n",
      "/Users/zhafen/repos/cc/cc/atlas.py:998: UserWarning: No publications found for Peebles1975. Skipping.\n",
      "  warnings.warn(\n",
      "/Users/zhafen/repos/cc/cc/atlas.py:998: UserWarning: No publications found for Pfeffer2021. Skipping.\n",
      "  warnings.warn(\n",
      "/Users/zhafen/repos/cc/cc/atlas.py:998: UserWarning: No publications found for Pillepich2017. Skipping.\n",
      "  warnings.warn(\n",
      "/Users/zhafen/repos/cc/cc/atlas.py:998: UserWarning: No publications found for Pirker2015. Skipping.\n",
      "  warnings.warn(\n",
      "/Users/zhafen/repos/cc/cc/atlas.py:998: UserWarning: No publications found for Price1976. Skipping.\n",
      "  warnings.warn(\n",
      "/Users/zhafen/repos/cc/cc/atlas.py:998: UserWarning: No publications found for Reiners2015. Skipping.\n",
      "  warnings.warn(\n",
      "/Users/zhafen/repos/cc/cc/atlas.py:998: UserWarning: No publications found for Rennehan2021. Skipping.\n",
      "  warnings.warn(\n",
      "/Users/zhafen/repos/cc/cc/atlas.py:998: UserWarning: No publications found for Research2004. Skipping.\n",
      "  warnings.warn(\n",
      "/Users/zhafen/repos/cc/cc/atlas.py:998: UserWarning: No publications found for Richings2020. Skipping.\n",
      "  warnings.warn(\n",
      "/Users/zhafen/repos/cc/cc/atlas.py:998: UserWarning: No publications found for Riedl2006. Skipping.\n",
      "  warnings.warn(\n",
      "/Users/zhafen/repos/cc/cc/atlas.py:998: UserWarning: No publications found for Runeson2006. Skipping.\n",
      "  warnings.warn(\n",
      "/Users/zhafen/repos/cc/cc/atlas.py:998: UserWarning: No publications found for Sanchez2020. Skipping.\n",
      "  warnings.warn(\n",
      "/Users/zhafen/repos/cc/cc/atlas.py:998: UserWarning: No publications found for Scheufele1999. Skipping.\n",
      "  warnings.warn(\n",
      "/Users/zhafen/repos/cc/cc/atlas.py:998: UserWarning: No publications found for Schilling2005. Skipping.\n",
      "  warnings.warn(\n",
      "/Users/zhafen/repos/cc/cc/atlas.py:998: UserWarning: No publications found for Schilling2011. Skipping.\n",
      "  warnings.warn(\n",
      "/Users/zhafen/repos/cc/cc/atlas.py:998: UserWarning: No publications found for Shockley1957. Skipping.\n",
      "  warnings.warn(\n",
      "/Users/zhafen/repos/cc/cc/atlas.py:998: UserWarning: No publications found for Siekmann1991. Skipping.\n",
      "  warnings.warn(\n",
      "/Users/zhafen/repos/cc/cc/atlas.py:998: UserWarning: No publications found for Sinatra2016. Skipping.\n",
      "  warnings.warn(\n",
      "/Users/zhafen/repos/cc/cc/atlas.py:998: UserWarning: No publications found for Smagorinsky1963. Skipping.\n",
      "  warnings.warn(\n",
      "/Users/zhafen/repos/cc/cc/atlas.py:998: UserWarning: No publications found for Smaldino2020. Skipping.\n",
      "  warnings.warn(\n",
      "/Users/zhafen/repos/cc/cc/atlas.py:998: UserWarning: No publications found for Small1973. Skipping.\n",
      "  warnings.warn(\n",
      " 97%|████████████████████████████████████████████████████████████████████████████████████████████████████████████████████████████████████████████████████████████████████████████████▎    | 38/39 [01:31<00:02,  2.08s/it]/Users/zhafen/repos/cc/cc/atlas.py:998: UserWarning: No publications found for Steegen2016. Skipping.\n",
      "  warnings.warn(\n",
      "/Users/zhafen/repos/cc/cc/atlas.py:998: UserWarning: No publications found for Stokols2008. Skipping.\n",
      "  warnings.warn(\n",
      "/Users/zhafen/repos/cc/cc/atlas.py:998: UserWarning: No publications found for Strevens2003. Skipping.\n",
      "  warnings.warn(\n",
      "/Users/zhafen/repos/cc/cc/atlas.py:998: UserWarning: No publications found for Stringer2010. Skipping.\n",
      "  warnings.warn(\n",
      "/Users/zhafen/repos/cc/cc/atlas.py:998: UserWarning: No publications found for Turnbull1976. Skipping.\n",
      "  warnings.warn(\n",
      "/Users/zhafen/repos/cc/cc/atlas.py:998: UserWarning: No publications found for Uzzi2005. Skipping.\n",
      "  warnings.warn(\n",
      "/Users/zhafen/repos/cc/cc/atlas.py:998: UserWarning: No publications found for VanDeVoort2017a. Skipping.\n",
      "  warnings.warn(\n",
      "/Users/zhafen/repos/cc/cc/atlas.py:998: UserWarning: No publications found for VanNoorden2013. Skipping.\n",
      "  warnings.warn(\n",
      "/Users/zhafen/repos/cc/cc/atlas.py:998: UserWarning: No publications found for VanNoorden2014. Skipping.\n",
      "  warnings.warn(\n",
      "/Users/zhafen/repos/cc/cc/atlas.py:998: UserWarning: No publications found for Varotsis2018. Skipping.\n",
      "  warnings.warn(\n",
      "/Users/zhafen/repos/cc/cc/atlas.py:998: UserWarning: No publications found for Vinkers2015. Skipping.\n",
      "  warnings.warn(\n",
      "/Users/zhafen/repos/cc/cc/atlas.py:998: UserWarning: No publications found for Wang2016a. Skipping.\n",
      "  warnings.warn(\n",
      "/Users/zhafen/repos/cc/cc/atlas.py:998: UserWarning: No publications found for Way2017. Skipping.\n",
      "  warnings.warn(\n",
      "/Users/zhafen/repos/cc/cc/atlas.py:998: UserWarning: No publications found for Weis2021. Skipping.\n",
      "  warnings.warn(\n",
      "/Users/zhafen/repos/cc/cc/atlas.py:998: UserWarning: No publications found for Weitzman1998. Skipping.\n",
      "  warnings.warn(\n",
      "/Users/zhafen/repos/cc/cc/atlas.py:998: UserWarning: No publications found for West2021. Skipping.\n",
      "  warnings.warn(\n",
      "/Users/zhafen/repos/cc/cc/atlas.py:998: UserWarning: No publications found for Whitcomb2013. Skipping.\n",
      "  warnings.warn(\n",
      "/Users/zhafen/repos/cc/cc/atlas.py:998: UserWarning: No publications found for Whittaker2000. Skipping.\n",
      "  warnings.warn(\n",
      "/Users/zhafen/repos/cc/cc/atlas.py:998: UserWarning: No publications found for Yarkoni2019. Skipping.\n",
      "  warnings.warn(\n",
      "/Users/zhafen/repos/cc/cc/atlas.py:998: UserWarning: No publications found for Young2020. Skipping.\n",
      "  warnings.warn(\n",
      "/Users/zhafen/repos/cc/cc/atlas.py:998: UserWarning: No publications found for Yu2021. Skipping.\n",
      "  warnings.warn(\n",
      "/Users/zhafen/repos/cc/cc/atlas.py:998: UserWarning: No publications found for Zanotti2010. Skipping.\n",
      "  warnings.warn(\n",
      "100%|█████████████████████████████████████████████████████████████████████████████████████████████████████████████████████████████████████████████████████████████████████████████████████| 39/39 [01:32<00:00,  2.36s/it]\n"
     ]
    },
    {
     "name": "stdout",
     "output_type": "stream",
     "text": [
      "    Making 0 ADS calls for publications without IDs...\n"
     ]
    },
    {
     "name": "stderr",
     "output_type": "stream",
     "text": [
      "0it [00:00, ?it/s]\n"
     ]
    },
    {
     "name": "stdout",
     "output_type": "stream",
     "text": [
      "    Doing NLP...\n"
     ]
    },
    {
     "name": "stderr",
     "output_type": "stream",
     "text": [
      "100%|█████████████████████████████████████████████████████████████████████████████████████████████████████████████████████████████████████████████████████████████████████████████████| 9311/9311 [02:02<00:00, 75.86it/s]\n"
     ]
    },
    {
     "name": "stdout",
     "output_type": "stream",
     "text": [
      "Preparing to save data.\n"
     ]
    },
    {
     "name": "stderr",
     "output_type": "stream",
     "text": [
      "100%|█████████████████████████████████████████████████████████████████████████████████████████████████████████████████████████████████████████████████████████████████████████████| 9311/9311 [00:00<00:00, 174039.91it/s]\n"
     ]
    },
    {
     "name": "stdout",
     "output_type": "stream",
     "text": [
      "Saving to /Users/zhafen/Data/cgm_modeling_challenge/literature_review/atlas_data.json\n"
     ]
    }
   ],
   "source": [
    "a.process_abstracts()\n",
    "a.save_data()"
   ]
  },
  {
   "cell_type": "markdown",
   "id": "40d6f621-509b-4151-907b-56d3b836fd5d",
   "metadata": {
    "tags": []
   },
   "source": [
    "#### Third Search"
   ]
  },
  {
   "cell_type": "code",
   "execution_count": 22,
   "id": "2cf35be5-103e-41e5-9212-d4867c788f70",
   "metadata": {},
   "outputs": [
    {
     "name": "stdout",
     "output_type": "stream",
     "text": [
      "Vectorizing text...\n",
      "    Retrieving publication data...\n"
     ]
    },
    {
     "name": "stderr",
     "output_type": "stream",
     "text": [
      "  0%|                                                                                                                                                                                            | 0/9311 [00:00<?, ?it/s]/Users/zhafen/repos/cc/cc/publication.py:800: UserWarning: Hafen2022b is unofficial and has no publication date.\n",
      "  warnings.warn( warning_msg )\n",
      "100%|█████████████████████████████████████████████████████████████████████████████████████████████████████████████████████████████████████████████████████████████████████████████| 9311/9311 [00:00<00:00, 175486.72it/s]"
     ]
    },
    {
     "name": "stdout",
     "output_type": "stream",
     "text": [
      "    Calculating vectorization...\n"
     ]
    },
    {
     "name": "stderr",
     "output_type": "stream",
     "text": [
      "\n",
      "/Users/zhafen/miniconda3/envs/general_use/lib/python3.9/site-packages/sklearn/utils/deprecation.py:87: FutureWarning: Function get_feature_names is deprecated; get_feature_names is deprecated in 1.0 and will be removed in 1.2. Please use get_feature_names_out instead.\n",
      "  warnings.warn(msg, category=FutureWarning)\n",
      "100%|███████████████████████████████████████████████████████████████████████████████████████████████████████████████████████████████████████████████████████████████████████████████████████| 6/6 [00:00<00:00, 17.51it/s]\n"
     ]
    }
   ],
   "source": [
    "# Vectorize\n",
    "vp_dict = a.vectorize( overwrite=True )\n",
    "c = cartography.Cartographer( **vp_dict )"
   ]
  },
  {
   "cell_type": "code",
   "execution_count": 23,
   "id": "f9ef35e4-4264-4782-a119-cd23e002b25e",
   "metadata": {
    "tags": []
   },
   "outputs": [
    {
     "name": "stdout",
     "output_type": "stream",
     "text": [
      "Expansion will include 3589 new publications.\n",
      "Loading bibliography entries.\n",
      "Storing bibliography entries.\n"
     ]
    },
    {
     "name": "stderr",
     "output_type": "stream",
     "text": [
      "100%|████████████████████████████████████████████████████████████████████████████████████████████████████████████████████████████████████████████████████████████████████████████| 10504/10504 [00:00<00:00, 39789.54it/s]\n"
     ]
    }
   ],
   "source": [
    "a = c.expand( a, center=p.citation_key )"
   ]
  },
  {
   "cell_type": "code",
   "execution_count": 24,
   "id": "ecafb877-ab9e-40c8-8a28-7f1a8bc93fd3",
   "metadata": {},
   "outputs": [
    {
     "name": "stdout",
     "output_type": "stream",
     "text": [
      "    Making 42 ADS calls...\n"
     ]
    },
    {
     "name": "stderr",
     "output_type": "stream",
     "text": [
      " 95%|████████████████████████████████████████████████████████████████████████████████████████████████████████████████████████████████████████████████████████████████████████████▍        | 40/42 [01:33<00:05,  2.63s/it]/Users/zhafen/repos/cc/cc/atlas.py:998: UserWarning: No publications found for Anderson2016. Skipping.\n",
      "  warnings.warn(\n",
      "/Users/zhafen/repos/cc/cc/atlas.py:998: UserWarning: No publications found for Azoulay2011. Skipping.\n",
      "  warnings.warn(\n",
      "/Users/zhafen/repos/cc/cc/atlas.py:998: UserWarning: No publications found for CANaturalResourcesAgency. Skipping.\n",
      "  warnings.warn(\n",
      "/Users/zhafen/repos/cc/cc/atlas.py:998: UserWarning: No publications found for Cen2001. Skipping.\n",
      "  warnings.warn(\n",
      "/Users/zhafen/repos/cc/cc/atlas.py:998: UserWarning: No publications found for Chan2017. Skipping.\n",
      "  warnings.warn(\n",
      "/Users/zhafen/repos/cc/cc/atlas.py:998: UserWarning: No publications found for Chawla2021. Skipping.\n",
      "  warnings.warn(\n",
      "/Users/zhafen/repos/cc/cc/atlas.py:998: UserWarning: No publications found for Cluley2012. Skipping.\n",
      "  warnings.warn(\n",
      "/Users/zhafen/repos/cc/cc/atlas.py:998: UserWarning: No publications found for Coelho2017. Skipping.\n",
      "  warnings.warn(\n",
      "/Users/zhafen/repos/cc/cc/atlas.py:998: UserWarning: No publications found for Collins2021. Skipping.\n",
      "  warnings.warn(\n",
      "/Users/zhafen/repos/cc/cc/atlas.py:998: UserWarning: No publications found for DeSollaPrice1989. Skipping.\n",
      "  warnings.warn(\n",
      "/Users/zhafen/repos/cc/cc/atlas.py:998: UserWarning: No publications found for Deterding2011. Skipping.\n",
      "  warnings.warn(\n",
      "/Users/zhafen/repos/cc/cc/atlas.py:998: UserWarning: No publications found for Draine2011. Skipping.\n",
      "  warnings.warn(\n",
      "/Users/zhafen/repos/cc/cc/atlas.py:998: UserWarning: No publications found for Ekman2016. Skipping.\n",
      "  warnings.warn(\n",
      "/Users/zhafen/repos/cc/cc/atlas.py:998: UserWarning: No publications found for Etemadpour2016. Skipping.\n",
      "  warnings.warn(\n",
      "/Users/zhafen/repos/cc/cc/atlas.py:998: UserWarning: No publications found for Falk-Krzesinski2011. Skipping.\n",
      "  warnings.warn(\n",
      "/Users/zhafen/repos/cc/cc/atlas.py:998: UserWarning: No publications found for Feige2011. Skipping.\n",
      "  warnings.warn(\n",
      "/Users/zhafen/repos/cc/cc/atlas.py:998: UserWarning: No publications found for Fiore2008. Skipping.\n",
      "  warnings.warn(\n",
      "/Users/zhafen/repos/cc/cc/atlas.py:998: UserWarning: No publications found for Fleming2001. Skipping.\n",
      "  warnings.warn(\n",
      "/Users/zhafen/repos/cc/cc/atlas.py:998: UserWarning: No publications found for Fortunato2018. Skipping.\n",
      "  warnings.warn(\n",
      "/Users/zhafen/repos/cc/cc/atlas.py:998: UserWarning: No publications found for Franconeri2021a. Skipping.\n",
      "  warnings.warn(\n",
      "/Users/zhafen/repos/cc/cc/atlas.py:998: UserWarning: No publications found for Gunn1972. Skipping.\n",
      "  warnings.warn(\n",
      "/Users/zhafen/repos/cc/cc/atlas.py:998: UserWarning: No publications found for Hamari2014. Skipping.\n",
      "  warnings.warn(\n",
      "/Users/zhafen/repos/cc/cc/atlas.py:998: UserWarning: No publications found for Hanes1940. Skipping.\n",
      "  warnings.warn(\n",
      "/Users/zhafen/repos/cc/cc/atlas.py:998: UserWarning: No publications found for HarmsworthAssociates2010. Skipping.\n",
      "  warnings.warn(\n",
      " 98%|████████████████████████████████████████████████████████████████████████████████████████████████████████████████████████████████████████████████████████████████████████████████▋    | 41/42 [01:35<00:02,  2.58s/it]/Users/zhafen/repos/cc/cc/atlas.py:998: UserWarning: No publications found for Harrus. Skipping.\n",
      "  warnings.warn(\n",
      "/Users/zhafen/repos/cc/cc/atlas.py:998: UserWarning: No publications found for Hartigan1985. Skipping.\n",
      "  warnings.warn(\n",
      "/Users/zhafen/repos/cc/cc/atlas.py:998: UserWarning: No publications found for Haven2021. Skipping.\n",
      "  warnings.warn(\n",
      "/Users/zhafen/repos/cc/cc/atlas.py:998: UserWarning: No publications found for Henderson1990. Skipping.\n",
      "  warnings.warn(\n",
      "/Users/zhafen/repos/cc/cc/atlas.py:998: UserWarning: No publications found for JONES2009. Skipping.\n",
      "  warnings.warn(\n",
      "/Users/zhafen/repos/cc/cc/atlas.py:998: UserWarning: No publications found for Kaplan1958. Skipping.\n",
      "  warnings.warn(\n",
      "/Users/zhafen/repos/cc/cc/atlas.py:998: UserWarning: No publications found for Kepler2016. Skipping.\n",
      "  warnings.warn(\n",
      "/Users/zhafen/repos/cc/cc/atlas.py:998: UserWarning: No publications found for Kimm2011b. Skipping.\n",
      "  warnings.warn(\n",
      "/Users/zhafen/repos/cc/cc/atlas.py:998: UserWarning: No publications found for Kitcher1990. Skipping.\n",
      "  warnings.warn(\n",
      "/Users/zhafen/repos/cc/cc/atlas.py:998: UserWarning: No publications found for Klein2003. Skipping.\n",
      "  warnings.warn(\n",
      "/Users/zhafen/repos/cc/cc/atlas.py:998: UserWarning: No publications found for Kluyver2016. Skipping.\n",
      "  warnings.warn(\n",
      "/Users/zhafen/repos/cc/cc/atlas.py:998: UserWarning: No publications found for Lam2015. Skipping.\n",
      "  warnings.warn(\n",
      "/Users/zhafen/repos/cc/cc/atlas.py:998: UserWarning: No publications found for Lanson2008. Skipping.\n",
      "  warnings.warn(\n",
      "/Users/zhafen/repos/cc/cc/atlas.py:998: UserWarning: No publications found for Lim2020a. Skipping.\n",
      "  warnings.warn(\n",
      "/Users/zhafen/repos/cc/cc/atlas.py:998: UserWarning: No publications found for Linde2015. Skipping.\n",
      "  warnings.warn(\n",
      "/Users/zhafen/repos/cc/cc/atlas.py:998: UserWarning: No publications found for Liu2013. Skipping.\n",
      "  warnings.warn(\n",
      "/Users/zhafen/repos/cc/cc/atlas.py:998: UserWarning: No publications found for McKinney2010. Skipping.\n",
      "  warnings.warn(\n",
      "/Users/zhafen/repos/cc/cc/atlas.py:998: UserWarning: No publications found for Moors2017. Skipping.\n",
      "  warnings.warn(\n",
      "/Users/zhafen/repos/cc/cc/atlas.py:998: UserWarning: No publications found for Parker1965. Skipping.\n",
      "  warnings.warn(\n",
      "/Users/zhafen/repos/cc/cc/atlas.py:998: UserWarning: No publications found for Paulovich2008. Skipping.\n",
      "  warnings.warn(\n",
      "/Users/zhafen/repos/cc/cc/atlas.py:998: UserWarning: No publications found for Peebles1975. Skipping.\n",
      "  warnings.warn(\n",
      "/Users/zhafen/repos/cc/cc/atlas.py:998: UserWarning: No publications found for Pfeffer2021. Skipping.\n",
      "  warnings.warn(\n",
      "/Users/zhafen/repos/cc/cc/atlas.py:998: UserWarning: No publications found for Pillepich2017. Skipping.\n",
      "  warnings.warn(\n",
      "/Users/zhafen/repos/cc/cc/atlas.py:998: UserWarning: No publications found for Pirker2015. Skipping.\n",
      "  warnings.warn(\n",
      "/Users/zhafen/repos/cc/cc/atlas.py:998: UserWarning: No publications found for Price1976. Skipping.\n",
      "  warnings.warn(\n",
      "/Users/zhafen/repos/cc/cc/atlas.py:998: UserWarning: No publications found for Reiners2015. Skipping.\n",
      "  warnings.warn(\n",
      "/Users/zhafen/repos/cc/cc/atlas.py:998: UserWarning: No publications found for Rennehan2021. Skipping.\n",
      "  warnings.warn(\n",
      "/Users/zhafen/repos/cc/cc/atlas.py:998: UserWarning: No publications found for Research2004. Skipping.\n",
      "  warnings.warn(\n",
      "/Users/zhafen/repos/cc/cc/atlas.py:998: UserWarning: No publications found for Richings2020. Skipping.\n",
      "  warnings.warn(\n",
      "/Users/zhafen/repos/cc/cc/atlas.py:998: UserWarning: No publications found for Riedl2006. Skipping.\n",
      "  warnings.warn(\n",
      "/Users/zhafen/repos/cc/cc/atlas.py:998: UserWarning: No publications found for Runeson2006. Skipping.\n",
      "  warnings.warn(\n",
      "/Users/zhafen/repos/cc/cc/atlas.py:998: UserWarning: No publications found for Sanchez2020. Skipping.\n",
      "  warnings.warn(\n",
      "/Users/zhafen/repos/cc/cc/atlas.py:998: UserWarning: No publications found for Scheufele1999. Skipping.\n",
      "  warnings.warn(\n",
      "/Users/zhafen/repos/cc/cc/atlas.py:998: UserWarning: No publications found for Schilling2005. Skipping.\n",
      "  warnings.warn(\n",
      "/Users/zhafen/repos/cc/cc/atlas.py:998: UserWarning: No publications found for Schilling2011. Skipping.\n",
      "  warnings.warn(\n",
      "/Users/zhafen/repos/cc/cc/atlas.py:998: UserWarning: No publications found for Shockley1957. Skipping.\n",
      "  warnings.warn(\n",
      "/Users/zhafen/repos/cc/cc/atlas.py:998: UserWarning: No publications found for Siekmann1991. Skipping.\n",
      "  warnings.warn(\n",
      "/Users/zhafen/repos/cc/cc/atlas.py:998: UserWarning: No publications found for Sinatra2016. Skipping.\n",
      "  warnings.warn(\n",
      "/Users/zhafen/repos/cc/cc/atlas.py:998: UserWarning: No publications found for Smagorinsky1963. Skipping.\n",
      "  warnings.warn(\n",
      "/Users/zhafen/repos/cc/cc/atlas.py:998: UserWarning: No publications found for Smaldino2020. Skipping.\n",
      "  warnings.warn(\n",
      "/Users/zhafen/repos/cc/cc/atlas.py:998: UserWarning: No publications found for Small1973. Skipping.\n",
      "  warnings.warn(\n",
      "/Users/zhafen/repos/cc/cc/atlas.py:998: UserWarning: No publications found for Steegen2016. Skipping.\n",
      "  warnings.warn(\n",
      "/Users/zhafen/repos/cc/cc/atlas.py:998: UserWarning: No publications found for Stokols2008. Skipping.\n",
      "  warnings.warn(\n",
      "/Users/zhafen/repos/cc/cc/atlas.py:998: UserWarning: No publications found for Strevens2003. Skipping.\n",
      "  warnings.warn(\n",
      "/Users/zhafen/repos/cc/cc/atlas.py:998: UserWarning: No publications found for Stringer2010. Skipping.\n",
      "  warnings.warn(\n",
      "/Users/zhafen/repos/cc/cc/atlas.py:998: UserWarning: No publications found for Turnbull1976. Skipping.\n",
      "  warnings.warn(\n",
      "/Users/zhafen/repos/cc/cc/atlas.py:998: UserWarning: No publications found for Uzzi2005. Skipping.\n",
      "  warnings.warn(\n",
      "/Users/zhafen/repos/cc/cc/atlas.py:998: UserWarning: No publications found for VanDeVoort2017a. Skipping.\n",
      "  warnings.warn(\n",
      "/Users/zhafen/repos/cc/cc/atlas.py:998: UserWarning: No publications found for VanNoorden2013. Skipping.\n",
      "  warnings.warn(\n",
      "/Users/zhafen/repos/cc/cc/atlas.py:998: UserWarning: No publications found for VanNoorden2014. Skipping.\n",
      "  warnings.warn(\n",
      "/Users/zhafen/repos/cc/cc/atlas.py:998: UserWarning: No publications found for Varotsis2018. Skipping.\n",
      "  warnings.warn(\n",
      "/Users/zhafen/repos/cc/cc/atlas.py:998: UserWarning: No publications found for Vinkers2015. Skipping.\n",
      "  warnings.warn(\n",
      "/Users/zhafen/repos/cc/cc/atlas.py:998: UserWarning: No publications found for Wang2016a. Skipping.\n",
      "  warnings.warn(\n",
      "/Users/zhafen/repos/cc/cc/atlas.py:998: UserWarning: No publications found for Way2017. Skipping.\n",
      "  warnings.warn(\n",
      "/Users/zhafen/repos/cc/cc/atlas.py:998: UserWarning: No publications found for Weis2021. Skipping.\n",
      "  warnings.warn(\n",
      "/Users/zhafen/repos/cc/cc/atlas.py:998: UserWarning: No publications found for Weitzman1998. Skipping.\n",
      "  warnings.warn(\n",
      "/Users/zhafen/repos/cc/cc/atlas.py:998: UserWarning: No publications found for West2021. Skipping.\n",
      "  warnings.warn(\n",
      "/Users/zhafen/repos/cc/cc/atlas.py:998: UserWarning: No publications found for Whitcomb2013. Skipping.\n",
      "  warnings.warn(\n",
      "/Users/zhafen/repos/cc/cc/atlas.py:998: UserWarning: No publications found for Whittaker2000. Skipping.\n",
      "  warnings.warn(\n",
      "/Users/zhafen/repos/cc/cc/atlas.py:998: UserWarning: No publications found for Yarkoni2019. Skipping.\n",
      "  warnings.warn(\n",
      "/Users/zhafen/repos/cc/cc/atlas.py:998: UserWarning: No publications found for Young2020. Skipping.\n",
      "  warnings.warn(\n",
      "/Users/zhafen/repos/cc/cc/atlas.py:998: UserWarning: No publications found for Yu2021. Skipping.\n",
      "  warnings.warn(\n",
      "/Users/zhafen/repos/cc/cc/atlas.py:998: UserWarning: No publications found for Zanotti2010. Skipping.\n",
      "  warnings.warn(\n",
      "100%|█████████████████████████████████████████████████████████████████████████████████████████████████████████████████████████████████████████████████████████████████████████████████████| 42/42 [01:36<00:00,  2.29s/it]\n"
     ]
    },
    {
     "name": "stdout",
     "output_type": "stream",
     "text": [
      "    Making 0 ADS calls for publications without IDs...\n"
     ]
    },
    {
     "name": "stderr",
     "output_type": "stream",
     "text": [
      "0it [00:00, ?it/s]\n"
     ]
    },
    {
     "name": "stdout",
     "output_type": "stream",
     "text": [
      "    Doing NLP...\n"
     ]
    },
    {
     "name": "stderr",
     "output_type": "stream",
     "text": [
      "100%|███████████████████████████████████████████████████████████████████████████████████████████████████████████████████████████████████████████████████████████████████████████████| 12900/12900 [02:12<00:00, 97.16it/s]\n"
     ]
    },
    {
     "name": "stdout",
     "output_type": "stream",
     "text": [
      "Preparing to save data.\n"
     ]
    },
    {
     "name": "stderr",
     "output_type": "stream",
     "text": [
      "100%|███████████████████████████████████████████████████████████████████████████████████████████████████████████████████████████████████████████████████████████████████████████| 12900/12900 [00:00<00:00, 165965.83it/s]\n"
     ]
    },
    {
     "name": "stdout",
     "output_type": "stream",
     "text": [
      "Saving to /Users/zhafen/Data/cgm_modeling_challenge/literature_review/atlas_data.json\n"
     ]
    }
   ],
   "source": [
    "a.process_abstracts()\n",
    "a.save_data()"
   ]
  },
  {
   "cell_type": "markdown",
   "id": "87d57b80-0cfb-455f-b55c-280bb83878ce",
   "metadata": {
    "tags": []
   },
   "source": [
    "#### Finish Up"
   ]
  },
  {
   "cell_type": "code",
   "execution_count": 25,
   "id": "d0454000-7e50-486c-bf40-826b64e5b538",
   "metadata": {},
   "outputs": [
    {
     "name": "stdout",
     "output_type": "stream",
     "text": [
      "Vectorizing text...\n",
      "    Retrieving publication data...\n"
     ]
    },
    {
     "name": "stderr",
     "output_type": "stream",
     "text": [
      "  0%|                                                                                                                                                                                           | 0/12900 [00:00<?, ?it/s]/Users/zhafen/repos/cc/cc/publication.py:800: UserWarning: Hafen2022b is unofficial and has no publication date.\n",
      "  warnings.warn( warning_msg )\n",
      "100%|███████████████████████████████████████████████████████████████████████████████████████████████████████████████████████████████████████████████████████████████████████████| 12900/12900 [00:00<00:00, 208597.02it/s]"
     ]
    },
    {
     "name": "stdout",
     "output_type": "stream",
     "text": [
      "    Calculating vectorization...\n"
     ]
    },
    {
     "name": "stderr",
     "output_type": "stream",
     "text": [
      "\n",
      "/Users/zhafen/miniconda3/envs/general_use/lib/python3.9/site-packages/sklearn/utils/deprecation.py:87: FutureWarning: Function get_feature_names is deprecated; get_feature_names is deprecated in 1.0 and will be removed in 1.2. Please use get_feature_names_out instead.\n",
      "  warnings.warn(msg, category=FutureWarning)\n",
      "100%|███████████████████████████████████████████████████████████████████████████████████████████████████████████████████████████████████████████████████████████████████████████████████████| 6/6 [00:00<00:00, 12.33it/s]\n"
     ]
    }
   ],
   "source": [
    "# Vectorize\n",
    "vp_dict = a.vectorize( overwrite=True )\n",
    "c = cartography.Cartographer( **vp_dict )"
   ]
  },
  {
   "cell_type": "code",
   "execution_count": 26,
   "id": "222b998a-b780-4499-bcc6-e1cd9075f6c3",
   "metadata": {},
   "outputs": [
    {
     "name": "stdout",
     "output_type": "stream",
     "text": [
      "We now have 11896 related publications to search through!\n"
     ]
    }
   ],
   "source": [
    "print( 'We now have {} related publications to search through!'.format( c.publications.size ) )"
   ]
  },
  {
   "cell_type": "code",
   "execution_count": null,
   "id": "bac57a12-b574-4f1d-a489-a46bd1466120",
   "metadata": {},
   "outputs": [],
   "source": []
  }
 ],
 "metadata": {
  "kernelspec": {
   "display_name": "Python 3 (ipykernel)",
   "language": "python",
   "name": "python3"
  },
  "language_info": {
   "codemirror_mode": {
    "name": "ipython",
    "version": 3
   },
   "file_extension": ".py",
   "mimetype": "text/x-python",
   "name": "python",
   "nbconvert_exporter": "python",
   "pygments_lexer": "ipython3",
   "version": "3.9.12"
  }
 },
 "nbformat": 4,
 "nbformat_minor": 5
}
